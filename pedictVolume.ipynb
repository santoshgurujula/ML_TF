{
 "cells": [
  {
   "cell_type": "code",
   "execution_count": 6,
   "metadata": {},
   "outputs": [
    {
     "name": "stdout",
     "output_type": "stream",
     "text": [
      "1.10.0\n"
     ]
    }
   ],
   "source": [
    "import tensorflow as tf\n",
    "import numpy as np\n",
    "import shutil\n",
    "print(tf.__version__)"
   ]
  },
  {
   "cell_type": "code",
   "execution_count": 7,
   "metadata": {
    "collapsed": true
   },
   "outputs": [],
   "source": [
    "CSV_COLUMNS = ['radius','height','volume']\n",
    "LABEL_COLUMN = 'volume'\n",
    "DEFAULTS = [[0.0], [0.0], [0.0]]\n",
    "\n",
    "def read_dataset(filename, mode, batch_size = 512):\n",
    "  def _input_fn():\n",
    "    def decode_csv(value_column):\n",
    "      columns = tf.decode_csv(value_column, record_defaults = DEFAULTS)\n",
    "      features = dict(zip(CSV_COLUMNS, columns))\n",
    "      label = features.pop(LABEL_COLUMN)\n",
    "      return features, label\n",
    "\n",
    "    # Create list of file names that match \"glob\" pattern (i.e. data_file_*.csv)\n",
    "    filenames_dataset = tf.data.Dataset.list_files(filename)\n",
    "    # Read lines from text files\n",
    "    textlines_dataset = filenames_dataset.flat_map(tf.data.TextLineDataset)\n",
    "    # Parse text lines as comma-separated values (CSV)\n",
    "    dataset = textlines_dataset.map(decode_csv)\n",
    "    \n",
    "    # Note:\n",
    "    # use tf.data.Dataset.flat_map to apply one to many transformations (here: filename -> text lines)\n",
    "    # use tf.data.Dataset.map      to apply one to one  transformations (here: text line -> feature list)\n",
    "    \n",
    "    if mode == tf.estimator.ModeKeys.TRAIN:\n",
    "        num_epochs = None # loop indefinitely\n",
    "        dataset = dataset.shuffle(buffer_size = 10 * batch_size)\n",
    "    else:\n",
    "        num_epochs = 1 # end-of-input after this\n",
    "\n",
    "    dataset = dataset.repeat(num_epochs).batch(batch_size)\n",
    "    \n",
    "    return dataset.make_one_shot_iterator().get_next()\n",
    "  return _input_fn\n",
    "    \n",
    "\n",
    "def get_train():\n",
    "  return read_dataset('./volume-train.csv', mode = tf.estimator.ModeKeys.TRAIN)\n",
    "\n",
    "def get_valid():\n",
    "  return read_dataset('./volume-valid.csv', mode = tf.estimator.ModeKeys.EVAL)\n",
    "\n",
    "def get_test():\n",
    "  return read_dataset('./volume-test.csv', mode = tf.estimator.ModeKeys.EVAL)"
   ]
  },
  {
   "cell_type": "code",
   "execution_count": 8,
   "metadata": {
    "collapsed": true
   },
   "outputs": [],
   "source": [
    "INPUT_COLUMNS = [\n",
    "    tf.feature_column.numeric_column('radius'),\n",
    "    tf.feature_column.numeric_column('height'),\n",
    "]\n",
    "\n",
    "def add_more_features(feats):\n",
    "  # Nothing to add (yet!)\n",
    "  return feats\n",
    "\n",
    "feature_cols = add_more_features(INPUT_COLUMNS)"
   ]
  },
  {
   "cell_type": "code",
   "execution_count": 11,
   "metadata": {},
   "outputs": [
    {
     "name": "stdout",
     "output_type": "stream",
     "text": [
      "INFO:tensorflow:Using default config.\n",
      "INFO:tensorflow:Using config: {'_log_step_count_steps': 100, '_session_config': None, '_evaluation_master': '', '_num_worker_replicas': 1, '_tf_random_seed': None, '_save_checkpoints_steps': None, '_save_summary_steps': 100, '_num_ps_replicas': 0, '_keep_checkpoint_every_n_hours': 10000, '_service': None, '_train_distribute': None, '_cluster_spec': <tensorflow.python.training.server_lib.ClusterSpec object at 0x0000000012539EF0>, '_task_id': 0, '_global_id_in_cluster': 0, '_keep_checkpoint_max': 5, '_device_fn': None, '_is_chief': True, '_master': '', '_save_checkpoints_secs': 600, '_task_type': 'worker', '_model_dir': 'volume_trained3'}\n",
      "INFO:tensorflow:Calling model_fn.\n",
      "INFO:tensorflow:Done calling model_fn.\n",
      "INFO:tensorflow:Create CheckpointSaverHook.\n",
      "INFO:tensorflow:Graph was finalized.\n",
      "INFO:tensorflow:Running local_init_op.\n",
      "INFO:tensorflow:Done running local_init_op.\n",
      "INFO:tensorflow:Saving checkpoints for 0 into volume_trained3\\model.ckpt.\n",
      "INFO:tensorflow:loss = 6.173935e+23, step = 1\n",
      "INFO:tensorflow:global_step/sec: 32.1459\n",
      "INFO:tensorflow:loss = 5.0269504e+19, step = 101 (3.113 sec)\n",
      "INFO:tensorflow:global_step/sec: 44.4702\n",
      "INFO:tensorflow:loss = 1.4849606e+20, step = 201 (2.249 sec)\n",
      "INFO:tensorflow:global_step/sec: 42.3705\n",
      "INFO:tensorflow:loss = 2.9907937e+22, step = 301 (2.360 sec)\n",
      "INFO:tensorflow:global_step/sec: 46.6974\n",
      "INFO:tensorflow:loss = 5.2141927e+23, step = 401 (2.139 sec)\n",
      "INFO:tensorflow:global_step/sec: 49.5336\n",
      "INFO:tensorflow:loss = 5.5928295e+19, step = 501 (2.021 sec)\n",
      "INFO:tensorflow:global_step/sec: 46.4194\n",
      "INFO:tensorflow:loss = 1.3022779e+20, step = 601 (2.154 sec)\n",
      "INFO:tensorflow:global_step/sec: 40.8375\n",
      "INFO:tensorflow:loss = 1.8605705e+22, step = 701 (2.449 sec)\n",
      "INFO:tensorflow:global_step/sec: 44.363\n",
      "INFO:tensorflow:loss = 4.039744e+23, step = 801 (2.255 sec)\n",
      "INFO:tensorflow:global_step/sec: 40.8975\n",
      "INFO:tensorflow:loss = 5.8445275e+19, step = 901 (2.444 sec)\n",
      "INFO:tensorflow:global_step/sec: 41.9263\n",
      "INFO:tensorflow:loss = 5.540381e+19, step = 1001 (2.385 sec)\n",
      "INFO:tensorflow:global_step/sec: 42.7692\n",
      "INFO:tensorflow:loss = 1.3909507e+22, step = 1101 (2.338 sec)\n",
      "INFO:tensorflow:global_step/sec: 51.5434\n",
      "INFO:tensorflow:loss = 3.120645e+23, step = 1201 (1.940 sec)\n",
      "INFO:tensorflow:global_step/sec: 50.9655\n",
      "INFO:tensorflow:loss = 5.613792e+19, step = 1301 (1.963 sec)\n",
      "INFO:tensorflow:global_step/sec: 51.6766\n",
      "INFO:tensorflow:loss = 3.9238914e+20, step = 1401 (1.934 sec)\n",
      "INFO:tensorflow:global_step/sec: 51.6233\n",
      "INFO:tensorflow:loss = 3.575339e+22, step = 1501 (1.937 sec)\n",
      "INFO:tensorflow:global_step/sec: 51.3581\n",
      "INFO:tensorflow:loss = 2.3599694e+23, step = 1601 (1.947 sec)\n",
      "INFO:tensorflow:global_step/sec: 51.5169\n",
      "INFO:tensorflow:loss = 5.0484837e+19, step = 1701 (1.941 sec)\n",
      "INFO:tensorflow:global_step/sec: 51.2266\n",
      "INFO:tensorflow:loss = 4.62364e+19, step = 1801 (1.952 sec)\n",
      "INFO:tensorflow:global_step/sec: 51.4109\n",
      "INFO:tensorflow:loss = 2.1189405e+22, step = 1901 (1.945 sec)\n",
      "INFO:tensorflow:global_step/sec: 51.57\n",
      "INFO:tensorflow:loss = 1.5849005e+23, step = 2001 (1.939 sec)\n",
      "INFO:tensorflow:global_step/sec: 50.9136\n",
      "INFO:tensorflow:loss = 5.5306253e+19, step = 2101 (1.964 sec)\n",
      "INFO:tensorflow:global_step/sec: 51.5966\n",
      "INFO:tensorflow:loss = 1.6335854e+20, step = 2201 (1.938 sec)\n",
      "INFO:tensorflow:global_step/sec: 51.2266\n",
      "INFO:tensorflow:loss = 2.9722424e+22, step = 2301 (1.952 sec)\n",
      "INFO:tensorflow:global_step/sec: 51.5966\n",
      "INFO:tensorflow:loss = 6.736034e+22, step = 2401 (1.938 sec)\n",
      "INFO:tensorflow:global_step/sec: 48.8253\n",
      "INFO:tensorflow:loss = 5.0022633e+19, step = 2501 (2.048 sec)\n",
      "INFO:tensorflow:global_step/sec: 51.0696\n",
      "INFO:tensorflow:loss = 6.20496e+21, step = 2601 (1.958 sec)\n",
      "INFO:tensorflow:global_step/sec: 51.7301\n",
      "INFO:tensorflow:loss = 2.3116238e+22, step = 2701 (1.933 sec)\n",
      "INFO:tensorflow:global_step/sec: 46.1867\n",
      "INFO:tensorflow:loss = 3.928828e+21, step = 2801 (2.165 sec)\n",
      "INFO:tensorflow:global_step/sec: 46.6609\n",
      "INFO:tensorflow:loss = 4.520708e+19, step = 2901 (2.143 sec)\n",
      "INFO:tensorflow:Saving checkpoints for 3000 into volume_trained3\\model.ckpt.\n",
      "INFO:tensorflow:Loss for final step: 7.766119e+20.\n"
     ]
    },
    {
     "data": {
      "text/plain": [
       "<tensorflow.python.estimator.canned.linear.LinearRegressor at 0x12539dd8>"
      ]
     },
     "execution_count": 11,
     "metadata": {},
     "output_type": "execute_result"
    }
   ],
   "source": [
    "tf.logging.set_verbosity(tf.logging.INFO)\n",
    "OUTDIR = 'volume_trained3'\n",
    "#TensorBoard().start(OUTDIR)\n",
    "shutil.rmtree(OUTDIR, ignore_errors = True) # start fresh each time\n",
    "model = tf.estimator.LinearRegressor(\n",
    "      feature_columns = feature_cols, model_dir = OUTDIR)\n",
    "model.train(input_fn = get_train(), max_steps = 3000)"
   ]
  },
  {
   "cell_type": "code",
   "execution_count": 12,
   "metadata": {},
   "outputs": [
    {
     "name": "stdout",
     "output_type": "stream",
     "text": [
      "INFO:tensorflow:Calling model_fn.\n",
      "INFO:tensorflow:Done calling model_fn.\n",
      "INFO:tensorflow:Starting evaluation at 2018-09-23-06:30:22\n",
      "INFO:tensorflow:Graph was finalized.\n",
      "INFO:tensorflow:Restoring parameters from volume_trained3\\model.ckpt-3000\n",
      "INFO:tensorflow:Running local_init_op.\n",
      "INFO:tensorflow:Done running local_init_op.\n",
      "INFO:tensorflow:Finished evaluation at 2018-09-23-06:30:23\n",
      "INFO:tensorflow:Saving dict for global step 3000: average_loss = 7.627667e+17, global_step = 3000, label/mean = 583032100.0, loss = 3.8138332e+20, prediction/mean = 43468.848\n",
      "INFO:tensorflow:Saving 'checkpoint_path' summary for global step 3000: volume_trained3\\model.ckpt-3000\n",
      "RMSE on validation dataset = 873365120.0\n"
     ]
    }
   ],
   "source": [
    "def print_rmse(model, name, input_fn):\n",
    "  metrics = model.evaluate(input_fn = input_fn, steps = None)\n",
    "  print('RMSE on {} dataset = {}'.format(name, np.sqrt(metrics['average_loss'])))\n",
    "print_rmse(model, 'validation', get_valid())"
   ]
  },
  {
   "cell_type": "code",
   "execution_count": 13,
   "metadata": {},
   "outputs": [
    {
     "name": "stdout",
     "output_type": "stream",
     "text": [
      "INFO:tensorflow:Calling model_fn.\n",
      "INFO:tensorflow:Done calling model_fn.\n",
      "INFO:tensorflow:Starting evaluation at 2018-09-23-06:30:26\n",
      "INFO:tensorflow:Graph was finalized.\n",
      "INFO:tensorflow:Restoring parameters from volume_trained3\\model.ckpt-3000\n",
      "INFO:tensorflow:Running local_init_op.\n",
      "INFO:tensorflow:Done running local_init_op.\n",
      "INFO:tensorflow:Finished evaluation at 2018-09-23-06:30:26\n",
      "INFO:tensorflow:Saving dict for global step 3000: average_loss = 1.7619267e+21, global_step = 3000, label/mean = 30846015000.0, loss = 3.224326e+23, prediction/mean = 47899.168\n",
      "INFO:tensorflow:Saving 'checkpoint_path' summary for global step 3000: volume_trained3\\model.ckpt-3000\n",
      "RMSE on validation dataset = 41975308288.0\n"
     ]
    }
   ],
   "source": [
    "print_rmse(model, 'validation', get_test())"
   ]
  }
 ],
 "metadata": {
  "kernelspec": {
   "display_name": "Python 3",
   "language": "python",
   "name": "python3"
  },
  "language_info": {
   "codemirror_mode": {
    "name": "ipython",
    "version": 3
   },
   "file_extension": ".py",
   "mimetype": "text/x-python",
   "name": "python",
   "nbconvert_exporter": "python",
   "pygments_lexer": "ipython3",
   "version": "3.5.4"
  }
 },
 "nbformat": 4,
 "nbformat_minor": 2
}
