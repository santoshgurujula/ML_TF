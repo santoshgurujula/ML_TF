{
  "nbformat": 4,
  "nbformat_minor": 0,
  "metadata": {
    "colab": {
      "name": "Untitled2.ipynb",
      "provenance": [],
      "include_colab_link": true
    },
    "kernelspec": {
      "name": "python3",
      "display_name": "Python 3"
    }
  },
  "cells": [
    {
      "cell_type": "markdown",
      "metadata": {
        "id": "view-in-github",
        "colab_type": "text"
      },
      "source": [
        "<a href=\"https://colab.research.google.com/github/santoshgurujula/ML_TF/blob/master/SettingKaggleData.ipynb\" target=\"_parent\"><img src=\"https://colab.research.google.com/assets/colab-badge.svg\" alt=\"Open In Colab\"/></a>"
      ]
    },
    {
      "cell_type": "code",
      "metadata": {
        "id": "ZutCoJNfPPaR",
        "colab_type": "code",
        "colab": {
          "base_uri": "https://localhost:8080/",
          "height": 204
        },
        "outputId": "7d5ae103-a0b3-4bed-d54a-9f60e178a02c"
      },
      "source": [
        "!pip install kaggle --upgrade"
      ],
      "execution_count": 14,
      "outputs": [
        {
          "output_type": "stream",
          "text": [
            "Requirement already up-to-date: kaggle in /usr/local/lib/python3.6/dist-packages (1.5.6)\n",
            "Requirement already satisfied, skipping upgrade: certifi in /usr/local/lib/python3.6/dist-packages (from kaggle) (2019.11.28)\n",
            "Requirement already satisfied, skipping upgrade: python-slugify in /usr/local/lib/python3.6/dist-packages (from kaggle) (4.0.0)\n",
            "Requirement already satisfied, skipping upgrade: urllib3<1.25,>=1.21.1 in /usr/local/lib/python3.6/dist-packages (from kaggle) (1.24.3)\n",
            "Requirement already satisfied, skipping upgrade: requests in /usr/local/lib/python3.6/dist-packages (from kaggle) (2.21.0)\n",
            "Requirement already satisfied, skipping upgrade: python-dateutil in /usr/local/lib/python3.6/dist-packages (from kaggle) (2.6.1)\n",
            "Requirement already satisfied, skipping upgrade: tqdm in /usr/local/lib/python3.6/dist-packages (from kaggle) (4.28.1)\n",
            "Requirement already satisfied, skipping upgrade: six>=1.10 in /usr/local/lib/python3.6/dist-packages (from kaggle) (1.12.0)\n",
            "Requirement already satisfied, skipping upgrade: text-unidecode>=1.3 in /usr/local/lib/python3.6/dist-packages (from python-slugify->kaggle) (1.3)\n",
            "Requirement already satisfied, skipping upgrade: idna<2.9,>=2.5 in /usr/local/lib/python3.6/dist-packages (from requests->kaggle) (2.8)\n",
            "Requirement already satisfied, skipping upgrade: chardet<3.1.0,>=3.0.2 in /usr/local/lib/python3.6/dist-packages (from requests->kaggle) (3.0.4)\n"
          ],
          "name": "stdout"
        }
      ]
    },
    {
      "cell_type": "code",
      "metadata": {
        "id": "r2jFDvquQwBR",
        "colab_type": "code",
        "colab": {}
      },
      "source": [
        "\n",
        "!echo '{\"username\":\"santoshgurujula\",\"key\":\"bdc992e838810bb3df298ae0a1874652\"}' > /root/.kaggle/kaggle.json"
      ],
      "execution_count": 0,
      "outputs": []
    },
    {
      "cell_type": "code",
      "metadata": {
        "id": "GpZpIaEyRQqf",
        "colab_type": "code",
        "colab": {
          "base_uri": "https://localhost:8080/",
          "height": 51
        },
        "outputId": "332bd81c-589d-486c-8665-cecd14a200c4"
      },
      "source": [
        "!chmod 600 /root/.kaggle/kaggle.json\n",
        "!kaggle config path -p /root"
      ],
      "execution_count": 10,
      "outputs": [
        {
          "output_type": "stream",
          "text": [
            "usage: kaggle config [-h] {view,set,unset} ...\n",
            "kaggle config: error: argument command: invalid choice: 'path' (choose from 'view', 'set', 'unset')\n"
          ],
          "name": "stdout"
        }
      ]
    },
    {
      "cell_type": "code",
      "metadata": {
        "id": "lOSmtSJnRwiM",
        "colab_type": "code",
        "colab": {
          "base_uri": "https://localhost:8080/",
          "height": 333
        },
        "outputId": "96260c8e-10d0-4773-9ebc-d7fedca39604"
      },
      "source": [
        "from kaggle.competitions import twosigmanews\n",
        "# You can only call make_env() once, so don't lose it!\n",
        "env = twosigmanews.make_env()"
      ],
      "execution_count": 15,
      "outputs": [
        {
          "output_type": "error",
          "ename": "ModuleNotFoundError",
          "evalue": "ignored",
          "traceback": [
            "\u001b[0;31m---------------------------------------------------------------------------\u001b[0m",
            "\u001b[0;31mModuleNotFoundError\u001b[0m                       Traceback (most recent call last)",
            "\u001b[0;32m<ipython-input-15-ecdb46c2c700>\u001b[0m in \u001b[0;36m<module>\u001b[0;34m()\u001b[0m\n\u001b[0;32m----> 1\u001b[0;31m \u001b[0;32mfrom\u001b[0m \u001b[0mkaggle\u001b[0m\u001b[0;34m.\u001b[0m\u001b[0mcompetitions\u001b[0m \u001b[0;32mimport\u001b[0m \u001b[0mtwosigmanews\u001b[0m\u001b[0;34m\u001b[0m\u001b[0;34m\u001b[0m\u001b[0m\n\u001b[0m\u001b[1;32m      2\u001b[0m \u001b[0;31m# You can only call make_env() once, so don't lose it!\u001b[0m\u001b[0;34m\u001b[0m\u001b[0;34m\u001b[0m\u001b[0;34m\u001b[0m\u001b[0m\n\u001b[1;32m      3\u001b[0m \u001b[0menv\u001b[0m \u001b[0;34m=\u001b[0m \u001b[0mtwosigmanews\u001b[0m\u001b[0;34m.\u001b[0m\u001b[0mmake_env\u001b[0m\u001b[0;34m(\u001b[0m\u001b[0;34m)\u001b[0m\u001b[0;34m\u001b[0m\u001b[0;34m\u001b[0m\u001b[0m\n",
            "\u001b[0;31mModuleNotFoundError\u001b[0m: No module named 'kaggle.competitions'",
            "",
            "\u001b[0;31m---------------------------------------------------------------------------\u001b[0;32m\nNOTE: If your import is failing due to a missing package, you can\nmanually install dependencies using either !pip or !apt.\n\nTo view examples of installing some common dependencies, click the\n\"Open Examples\" button below.\n\u001b[0;31m---------------------------------------------------------------------------\u001b[0m\n"
          ]
        }
      ]
    },
    {
      "cell_type": "code",
      "metadata": {
        "id": "H_71yOzvT2cn",
        "colab_type": "code",
        "colab": {
          "base_uri": "https://localhost:8080/",
          "height": 408
        },
        "outputId": "31c47334-fb29-4fbc-81dd-efc28d62f183"
      },
      "source": [
        "!kaggle datasets list"
      ],
      "execution_count": 13,
      "outputs": [
        {
          "output_type": "stream",
          "text": [
            "Warning: Looks like you're using an outdated API Version, please consider updating (server 1.5.6 / client 1.5.4)\n",
            "ref                                                        title                                                size  lastUpdated          downloadCount  \n",
            "---------------------------------------------------------  --------------------------------------------------  -----  -------------------  -------------  \n",
            "sobhanmoosavi/us-accidents                                 US Accidents (2.25 million records)                 152MB  2019-05-20 23:26:06           2192  \n",
            "leonardopena/top50spotify2019                              Top 50 Spotify Songs - 2019                           2KB  2019-08-08 16:39:46           2666  \n",
            "andrewsundberg/college-basketball-dataset                  College Basketball Dataset                          147KB  2019-11-22 15:51:26            516  \n",
            "rusiano/madrid-airbnb-data                                 Madrid Airbnb Data                                  128MB  2019-12-02 21:28:11            275  \n",
            "atulanandjha/temperature-readings-iot-devices              Temperature Readings : IOT Devices                    1MB  2019-12-01 18:48:54            265  \n",
            "atulyakumar98/pothole-detection-dataset                    Pothole Detection Dataset                           231MB  2019-11-30 16:48:36             67  \n",
            "paultimothymooney/open-elections-data-usa                  Open Elections Data: USA                             16GB  2019-12-02 01:27:45             86  \n",
            "mathfour/mock-traffic-data                                 Mock Traffic Data                                    29KB  2019-11-19 16:24:55            218  \n",
            "giacomomarchioro/isotc213                                  ISOTC213 - General Product Specification Standards   13KB  2019-12-07 18:49:07             19  \n",
            "volpatto/temperature-timeseries-for-some-brazilian-cities  Temperature Time-Series for some Brazilian cities    27KB  2019-12-08 23:15:09            143  \n",
            "occultainsights/bmw-cars-over-10k-images                   BMW cars over 10k images                              1GB  2019-12-09 15:25:27             47  \n",
            "gustavomodelli/forest-fires-in-brazil                      Forest Fires in Brazil                               31KB  2019-08-24 16:09:16          19473  \n",
            "rajeevw/ufcdata                                            UFC-Fight historical data from 1993 to 2019           3MB  2019-07-05 09:58:02          13431  \n",
            "akhilv11/border-crossing-entry-data                        Border Crossing Entry Data                            4MB  2019-08-21 14:51:34           7515  \n",
            "tristan581/17k-apple-app-store-strategy-games              17K Mobile Strategy Games                             8MB  2019-08-26 08:22:16          14746  \n",
            "ruslankl/european-union-lgbt-survey-2012                   EU LGBT Survey                                      610KB  2019-07-19 11:15:25           2689  \n",
            "kapilverma/hindi-bible                                     Hindi Bible                                           5MB  2019-09-07 18:04:35            582  \n",
            "chirin/africa-economic-banking-and-systemic-crisis-data    Africa Economic, Banking and Systemic Crisis Data    14KB  2019-07-21 02:00:17           6996  \n",
            "shuyangli94/food-com-recipes-and-user-interactions         Food.com Recipes and Interactions                   267MB  2019-11-08 01:18:21           5312  \n",
            "xvivancos/barcelona-data-sets                              Barcelona data sets                                   1MB  2019-09-26 06:08:02           9336  \n"
          ],
          "name": "stdout"
        }
      ]
    }
  ]
}