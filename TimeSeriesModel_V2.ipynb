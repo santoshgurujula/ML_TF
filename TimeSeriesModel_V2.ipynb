{
  "nbformat": 4,
  "nbformat_minor": 0,
  "metadata": {
    "colab": {
      "name": "TimeSeriesModel_V2.ipynb",
      "provenance": [],
      "collapsed_sections": [],
      "mount_file_id": "1naAQEYv2P6aGiPPevHYlt8UAXy5pnZyq",
      "authorship_tag": "ABX9TyPbrI1iQPPBmuXoUw8d9mUE",
      "include_colab_link": true
    },
    "kernelspec": {
      "name": "python3",
      "display_name": "Python 3"
    }
  },
  "cells": [
    {
      "cell_type": "markdown",
      "metadata": {
        "id": "view-in-github",
        "colab_type": "text"
      },
      "source": [
        "<a href=\"https://colab.research.google.com/github/santoshgurujula/ML_TF/blob/master/TimeSeriesModel_V2.ipynb\" target=\"_parent\"><img src=\"https://colab.research.google.com/assets/colab-badge.svg\" alt=\"Open In Colab\"/></a>"
      ]
    },
    {
      "cell_type": "code",
      "metadata": {
        "id": "sR4WnEv46qCR",
        "colab_type": "code",
        "colab": {
          "base_uri": "https://localhost:8080/",
          "height": 72
        },
        "outputId": "a9c1e096-1b9b-45d2-fb32-d095d24d015c"
      },
      "source": [
        "# First, import the relevant modules\n",
        "from matplotlib import pyplot as plt\n",
        "%matplotlib inline\n",
        "import numpy as np\n",
        "import pandas as pd\n",
        "import statsmodels.tsa.api as smt\n",
        "import statsmodels.api as sm\n",
        "import scipy.stats as scs\n",
        "plt.rcParams['figure.figsize'] = 10,6"
      ],
      "execution_count": 1,
      "outputs": [
        {
          "output_type": "stream",
          "text": [
            "/usr/local/lib/python3.6/dist-packages/statsmodels/tools/_testing.py:19: FutureWarning: pandas.util.testing is deprecated. Use the functions in the public API at pandas.testing instead.\n",
            "  import pandas.util.testing as tm\n"
          ],
          "name": "stderr"
        }
      ]
    },
    {
      "cell_type": "code",
      "metadata": {
        "id": "jhxH2He3p-F8",
        "colab_type": "code",
        "colab": {
          "base_uri": "https://localhost:8080/",
          "height": 35
        },
        "outputId": "c936e446-d8ef-4fe9-c3c8-f5a21dbd5191"
      },
      "source": [
        "import tensorflow as tf \n",
        "tf.test.gpu_device_name() "
      ],
      "execution_count": 2,
      "outputs": [
        {
          "output_type": "execute_result",
          "data": {
            "application/vnd.google.colaboratory.intrinsic": {
              "type": "string"
            },
            "text/plain": [
              "''"
            ]
          },
          "metadata": {
            "tags": []
          },
          "execution_count": 2
        }
      ]
    },
    {
      "cell_type": "code",
      "metadata": {
        "id": "zu0lc8xD8K73",
        "colab_type": "code",
        "colab": {
          "base_uri": "https://localhost:8080/",
          "height": 141
        },
        "outputId": "a8b9fc9a-aa15-419a-d652-237a0b06ee8e"
      },
      "source": [
        "#pointing the path to google drive folder\n",
        "%cd '/content/drive/My Drive/Springboard/data'\n",
        "!ls"
      ],
      "execution_count": 3,
      "outputs": [
        {
          "output_type": "stream",
          "text": [
            "/content/drive/My Drive/Springboard/data\n",
            "BOM500002.csv  BOM500013.csv  fig2.png\n",
            "BOM500003.csv  BOM500014.csv  FinalStockData.csv\n",
            "BOM500008.csv  BOM500020.csv  interpolating-timeseries-p1-pandas-fig1.png\n",
            "BOM500009.csv  BOM500023.csv  nasdl.csv\n",
            "BOM500010.csv  DJI.csv\n",
            "BOM500012.csv  fig1.png\n"
          ],
          "name": "stdout"
        }
      ]
    },
    {
      "cell_type": "code",
      "metadata": {
        "id": "WTwYT1sF7wLe",
        "colab_type": "code",
        "colab": {
          "base_uri": "https://localhost:8080/",
          "height": 105
        },
        "outputId": "cd174afc-7243-448d-e130-91d74f6e855b"
      },
      "source": [
        "dataset = pd.read_csv('/content/drive/My Drive/Springboard/data/FinalStockData.csv')\n",
        "dataset.info()"
      ],
      "execution_count": 4,
      "outputs": [
        {
          "output_type": "stream",
          "text": [
            "<class 'pandas.core.frame.DataFrame'>\n",
            "RangeIndex: 862 entries, 0 to 861\n",
            "Columns: 133 entries, Unnamed: 0 to Adj Close\n",
            "dtypes: float64(131), int64(1), object(1)\n",
            "memory usage: 895.8+ KB\n"
          ],
          "name": "stdout"
        }
      ]
    },
    {
      "cell_type": "code",
      "metadata": {
        "id": "ku6svJzl8abO",
        "colab_type": "code",
        "colab": {
          "base_uri": "https://localhost:8080/",
          "height": 363
        },
        "outputId": "db99c929-1910-4cd9-a50e-26569f44a475"
      },
      "source": [
        "dataset.head()"
      ],
      "execution_count": 5,
      "outputs": [
        {
          "output_type": "execute_result",
          "data": {
            "text/html": [
              "<div>\n",
              "<style scoped>\n",
              "    .dataframe tbody tr th:only-of-type {\n",
              "        vertical-align: middle;\n",
              "    }\n",
              "\n",
              "    .dataframe tbody tr th {\n",
              "        vertical-align: top;\n",
              "    }\n",
              "\n",
              "    .dataframe thead th {\n",
              "        text-align: right;\n",
              "    }\n",
              "</style>\n",
              "<table border=\"1\" class=\"dataframe\">\n",
              "  <thead>\n",
              "    <tr style=\"text-align: right;\">\n",
              "      <th></th>\n",
              "      <th>Unnamed: 0</th>\n",
              "      <th>Date</th>\n",
              "      <th>Open_BOM500002</th>\n",
              "      <th>Open_BOM500003</th>\n",
              "      <th>Open_BOM500008</th>\n",
              "      <th>Open_BOM500009</th>\n",
              "      <th>Open_BOM500010</th>\n",
              "      <th>Open_BOM500012</th>\n",
              "      <th>Open_BOM500013</th>\n",
              "      <th>Open_BOM500014</th>\n",
              "      <th>Open_BOM500020</th>\n",
              "      <th>Open_BOM500023</th>\n",
              "      <th>High_BOM500002</th>\n",
              "      <th>High_BOM500003</th>\n",
              "      <th>High_BOM500008</th>\n",
              "      <th>High_BOM500009</th>\n",
              "      <th>High_BOM500010</th>\n",
              "      <th>High_BOM500012</th>\n",
              "      <th>High_BOM500013</th>\n",
              "      <th>High_BOM500014</th>\n",
              "      <th>High_BOM500020</th>\n",
              "      <th>High_BOM500023</th>\n",
              "      <th>Low_BOM500002</th>\n",
              "      <th>Low_BOM500003</th>\n",
              "      <th>Low_BOM500008</th>\n",
              "      <th>Low_BOM500009</th>\n",
              "      <th>Low_BOM500010</th>\n",
              "      <th>Low_BOM500012</th>\n",
              "      <th>Low_BOM500013</th>\n",
              "      <th>Low_BOM500014</th>\n",
              "      <th>Low_BOM500020</th>\n",
              "      <th>Low_BOM500023</th>\n",
              "      <th>Close_BOM500002</th>\n",
              "      <th>Close_BOM500003</th>\n",
              "      <th>Close_BOM500008</th>\n",
              "      <th>Close_BOM500009</th>\n",
              "      <th>Close_BOM500010</th>\n",
              "      <th>Close_BOM500012</th>\n",
              "      <th>Close_BOM500013</th>\n",
              "      <th>Close_BOM500014</th>\n",
              "      <th>...</th>\n",
              "      <th>% Deli. Qty to Traded Qty_BOM500003</th>\n",
              "      <th>% Deli. Qty to Traded Qty_BOM500008</th>\n",
              "      <th>% Deli. Qty to Traded Qty_BOM500009</th>\n",
              "      <th>% Deli. Qty to Traded Qty_BOM500010</th>\n",
              "      <th>% Deli. Qty to Traded Qty_BOM500012</th>\n",
              "      <th>% Deli. Qty to Traded Qty_BOM500013</th>\n",
              "      <th>% Deli. Qty to Traded Qty_BOM500014</th>\n",
              "      <th>% Deli. Qty to Traded Qty_BOM500020</th>\n",
              "      <th>% Deli. Qty to Traded Qty_BOM500023</th>\n",
              "      <th>Spread H-L_BOM500002</th>\n",
              "      <th>Spread H-L_BOM500003</th>\n",
              "      <th>Spread H-L_BOM500008</th>\n",
              "      <th>Spread H-L_BOM500009</th>\n",
              "      <th>Spread H-L_BOM500010</th>\n",
              "      <th>Spread H-L_BOM500012</th>\n",
              "      <th>Spread H-L_BOM500013</th>\n",
              "      <th>Spread H-L_BOM500014</th>\n",
              "      <th>Spread H-L_BOM500020</th>\n",
              "      <th>Spread H-L_BOM500023</th>\n",
              "      <th>Spread C-O_BOM500002</th>\n",
              "      <th>Spread C-O_BOM500003</th>\n",
              "      <th>Spread C-O_BOM500008</th>\n",
              "      <th>Spread C-O_BOM500009</th>\n",
              "      <th>Spread C-O_BOM500010</th>\n",
              "      <th>Spread C-O_BOM500012</th>\n",
              "      <th>Spread C-O_BOM500013</th>\n",
              "      <th>Spread C-O_BOM500014</th>\n",
              "      <th>Spread C-O_BOM500020</th>\n",
              "      <th>Spread C-O_BOM500023</th>\n",
              "      <th>Gross_Purchases</th>\n",
              "      <th>Gross_Sales</th>\n",
              "      <th>Net_Investment_INR</th>\n",
              "      <th>Net_Investment_USD</th>\n",
              "      <th>Conversion_Rate</th>\n",
              "      <th>High</th>\n",
              "      <th>Low</th>\n",
              "      <th>Open</th>\n",
              "      <th>Close</th>\n",
              "      <th>Volume</th>\n",
              "      <th>Adj Close</th>\n",
              "    </tr>\n",
              "  </thead>\n",
              "  <tbody>\n",
              "    <tr>\n",
              "      <th>0</th>\n",
              "      <td>0</td>\n",
              "      <td>2017-01-02</td>\n",
              "      <td>1045.0</td>\n",
              "      <td>129.00</td>\n",
              "      <td>870.05</td>\n",
              "      <td>7.00</td>\n",
              "      <td>1275.00</td>\n",
              "      <td>21.9</td>\n",
              "      <td>15.50</td>\n",
              "      <td>2.50</td>\n",
              "      <td>49.05</td>\n",
              "      <td>NaN</td>\n",
              "      <td>1052.0</td>\n",
              "      <td>132.45</td>\n",
              "      <td>898.95</td>\n",
              "      <td>7.89</td>\n",
              "      <td>1275.0</td>\n",
              "      <td>22.00</td>\n",
              "      <td>16.08</td>\n",
              "      <td>2.50</td>\n",
              "      <td>49.90</td>\n",
              "      <td>NaN</td>\n",
              "      <td>1035.00</td>\n",
              "      <td>129.00</td>\n",
              "      <td>867.6</td>\n",
              "      <td>7.00</td>\n",
              "      <td>1214.15</td>\n",
              "      <td>21.50</td>\n",
              "      <td>14.86</td>\n",
              "      <td>2.30</td>\n",
              "      <td>48.35</td>\n",
              "      <td>NaN</td>\n",
              "      <td>1039.95</td>\n",
              "      <td>131.05</td>\n",
              "      <td>896.20</td>\n",
              "      <td>7.09</td>\n",
              "      <td>1219.25</td>\n",
              "      <td>21.60</td>\n",
              "      <td>15.30</td>\n",
              "      <td>2.37</td>\n",
              "      <td>...</td>\n",
              "      <td>59.65</td>\n",
              "      <td>12.15</td>\n",
              "      <td>87.01</td>\n",
              "      <td>21.24</td>\n",
              "      <td>77.39</td>\n",
              "      <td>38.58</td>\n",
              "      <td>82.68</td>\n",
              "      <td>27.28</td>\n",
              "      <td>NaN</td>\n",
              "      <td>17.00</td>\n",
              "      <td>3.45</td>\n",
              "      <td>31.35</td>\n",
              "      <td>0.89</td>\n",
              "      <td>60.85</td>\n",
              "      <td>0.50</td>\n",
              "      <td>1.22</td>\n",
              "      <td>0.20</td>\n",
              "      <td>1.55</td>\n",
              "      <td>NaN</td>\n",
              "      <td>-5.05</td>\n",
              "      <td>2.05</td>\n",
              "      <td>26.15</td>\n",
              "      <td>0.09</td>\n",
              "      <td>-55.75</td>\n",
              "      <td>-0.30</td>\n",
              "      <td>-0.20</td>\n",
              "      <td>-0.13</td>\n",
              "      <td>-0.25</td>\n",
              "      <td>NaN</td>\n",
              "      <td>2230.64</td>\n",
              "      <td>2796.67</td>\n",
              "      <td>-566.03</td>\n",
              "      <td>-83.29</td>\n",
              "      <td>67.9547</td>\n",
              "      <td>NaN</td>\n",
              "      <td>NaN</td>\n",
              "      <td>NaN</td>\n",
              "      <td>NaN</td>\n",
              "      <td>NaN</td>\n",
              "      <td>NaN</td>\n",
              "    </tr>\n",
              "    <tr>\n",
              "      <th>1</th>\n",
              "      <td>1</td>\n",
              "      <td>2017-01-03</td>\n",
              "      <td>1069.9</td>\n",
              "      <td>132.30</td>\n",
              "      <td>900.00</td>\n",
              "      <td>7.04</td>\n",
              "      <td>1220.00</td>\n",
              "      <td>21.9</td>\n",
              "      <td>15.50</td>\n",
              "      <td>2.47</td>\n",
              "      <td>49.00</td>\n",
              "      <td>106.950000</td>\n",
              "      <td>1069.9</td>\n",
              "      <td>135.00</td>\n",
              "      <td>900.00</td>\n",
              "      <td>7.30</td>\n",
              "      <td>1222.0</td>\n",
              "      <td>21.90</td>\n",
              "      <td>15.70</td>\n",
              "      <td>2.48</td>\n",
              "      <td>49.80</td>\n",
              "      <td>106.950000</td>\n",
              "      <td>1037.90</td>\n",
              "      <td>132.00</td>\n",
              "      <td>882.9</td>\n",
              "      <td>7.04</td>\n",
              "      <td>1201.00</td>\n",
              "      <td>21.10</td>\n",
              "      <td>15.10</td>\n",
              "      <td>2.32</td>\n",
              "      <td>48.55</td>\n",
              "      <td>106.950000</td>\n",
              "      <td>1045.05</td>\n",
              "      <td>132.50</td>\n",
              "      <td>890.20</td>\n",
              "      <td>7.25</td>\n",
              "      <td>1215.25</td>\n",
              "      <td>21.70</td>\n",
              "      <td>15.32</td>\n",
              "      <td>2.43</td>\n",
              "      <td>...</td>\n",
              "      <td>37.15</td>\n",
              "      <td>24.99</td>\n",
              "      <td>89.13</td>\n",
              "      <td>54.61</td>\n",
              "      <td>89.96</td>\n",
              "      <td>64.98</td>\n",
              "      <td>80.71</td>\n",
              "      <td>44.10</td>\n",
              "      <td>100.000000</td>\n",
              "      <td>32.00</td>\n",
              "      <td>3.00</td>\n",
              "      <td>17.10</td>\n",
              "      <td>0.26</td>\n",
              "      <td>21.00</td>\n",
              "      <td>0.80</td>\n",
              "      <td>0.60</td>\n",
              "      <td>0.16</td>\n",
              "      <td>1.25</td>\n",
              "      <td>0.000000</td>\n",
              "      <td>-24.85</td>\n",
              "      <td>0.20</td>\n",
              "      <td>-9.80</td>\n",
              "      <td>0.21</td>\n",
              "      <td>-4.75</td>\n",
              "      <td>-0.20</td>\n",
              "      <td>-0.18</td>\n",
              "      <td>-0.04</td>\n",
              "      <td>-0.20</td>\n",
              "      <td>0.000000</td>\n",
              "      <td>867.26</td>\n",
              "      <td>1185.97</td>\n",
              "      <td>-318.71</td>\n",
              "      <td>-46.85</td>\n",
              "      <td>68.0225</td>\n",
              "      <td>19938.529297</td>\n",
              "      <td>19775.929688</td>\n",
              "      <td>19872.859375</td>\n",
              "      <td>19881.759766</td>\n",
              "      <td>339180000.0</td>\n",
              "      <td>19881.759766</td>\n",
              "    </tr>\n",
              "    <tr>\n",
              "      <th>2</th>\n",
              "      <td>2</td>\n",
              "      <td>2017-01-04</td>\n",
              "      <td>1050.0</td>\n",
              "      <td>134.15</td>\n",
              "      <td>892.00</td>\n",
              "      <td>7.13</td>\n",
              "      <td>1215.25</td>\n",
              "      <td>22.5</td>\n",
              "      <td>15.32</td>\n",
              "      <td>2.48</td>\n",
              "      <td>50.25</td>\n",
              "      <td>104.050000</td>\n",
              "      <td>1050.0</td>\n",
              "      <td>134.60</td>\n",
              "      <td>909.25</td>\n",
              "      <td>7.40</td>\n",
              "      <td>1225.0</td>\n",
              "      <td>22.75</td>\n",
              "      <td>15.44</td>\n",
              "      <td>2.50</td>\n",
              "      <td>51.90</td>\n",
              "      <td>104.050000</td>\n",
              "      <td>1033.50</td>\n",
              "      <td>131.25</td>\n",
              "      <td>890.0</td>\n",
              "      <td>7.11</td>\n",
              "      <td>1197.55</td>\n",
              "      <td>21.25</td>\n",
              "      <td>15.12</td>\n",
              "      <td>2.35</td>\n",
              "      <td>50.25</td>\n",
              "      <td>104.025000</td>\n",
              "      <td>1037.35</td>\n",
              "      <td>131.75</td>\n",
              "      <td>898.50</td>\n",
              "      <td>7.26</td>\n",
              "      <td>1212.50</td>\n",
              "      <td>22.75</td>\n",
              "      <td>15.28</td>\n",
              "      <td>2.47</td>\n",
              "      <td>...</td>\n",
              "      <td>61.49</td>\n",
              "      <td>24.11</td>\n",
              "      <td>83.89</td>\n",
              "      <td>92.28</td>\n",
              "      <td>74.31</td>\n",
              "      <td>84.28</td>\n",
              "      <td>96.69</td>\n",
              "      <td>31.95</td>\n",
              "      <td>100.000000</td>\n",
              "      <td>16.50</td>\n",
              "      <td>3.35</td>\n",
              "      <td>19.25</td>\n",
              "      <td>0.29</td>\n",
              "      <td>27.45</td>\n",
              "      <td>1.50</td>\n",
              "      <td>0.32</td>\n",
              "      <td>0.15</td>\n",
              "      <td>1.65</td>\n",
              "      <td>0.025000</td>\n",
              "      <td>-12.65</td>\n",
              "      <td>-2.40</td>\n",
              "      <td>6.50</td>\n",
              "      <td>0.13</td>\n",
              "      <td>-2.75</td>\n",
              "      <td>0.25</td>\n",
              "      <td>-0.04</td>\n",
              "      <td>-0.01</td>\n",
              "      <td>0.65</td>\n",
              "      <td>-0.025000</td>\n",
              "      <td>1863.97</td>\n",
              "      <td>2400.72</td>\n",
              "      <td>-536.75</td>\n",
              "      <td>-78.84</td>\n",
              "      <td>68.0864</td>\n",
              "      <td>19956.140625</td>\n",
              "      <td>19878.830078</td>\n",
              "      <td>19890.939453</td>\n",
              "      <td>19942.160156</td>\n",
              "      <td>280010000.0</td>\n",
              "      <td>19942.160156</td>\n",
              "    </tr>\n",
              "    <tr>\n",
              "      <th>3</th>\n",
              "      <td>3</td>\n",
              "      <td>2017-01-05</td>\n",
              "      <td>1051.9</td>\n",
              "      <td>132.00</td>\n",
              "      <td>905.00</td>\n",
              "      <td>7.02</td>\n",
              "      <td>1225.00</td>\n",
              "      <td>23.7</td>\n",
              "      <td>15.43</td>\n",
              "      <td>2.34</td>\n",
              "      <td>51.25</td>\n",
              "      <td>101.150000</td>\n",
              "      <td>1051.9</td>\n",
              "      <td>133.25</td>\n",
              "      <td>935.25</td>\n",
              "      <td>7.50</td>\n",
              "      <td>1225.0</td>\n",
              "      <td>23.85</td>\n",
              "      <td>15.52</td>\n",
              "      <td>2.49</td>\n",
              "      <td>54.40</td>\n",
              "      <td>101.150000</td>\n",
              "      <td>1029.55</td>\n",
              "      <td>130.00</td>\n",
              "      <td>900.0</td>\n",
              "      <td>7.02</td>\n",
              "      <td>1205.30</td>\n",
              "      <td>22.90</td>\n",
              "      <td>15.26</td>\n",
              "      <td>2.33</td>\n",
              "      <td>51.20</td>\n",
              "      <td>101.100000</td>\n",
              "      <td>1031.45</td>\n",
              "      <td>131.65</td>\n",
              "      <td>916.35</td>\n",
              "      <td>7.34</td>\n",
              "      <td>1216.55</td>\n",
              "      <td>23.85</td>\n",
              "      <td>15.48</td>\n",
              "      <td>2.41</td>\n",
              "      <td>...</td>\n",
              "      <td>59.06</td>\n",
              "      <td>27.79</td>\n",
              "      <td>72.79</td>\n",
              "      <td>23.37</td>\n",
              "      <td>73.78</td>\n",
              "      <td>76.37</td>\n",
              "      <td>69.64</td>\n",
              "      <td>32.58</td>\n",
              "      <td>100.000000</td>\n",
              "      <td>22.35</td>\n",
              "      <td>3.25</td>\n",
              "      <td>35.25</td>\n",
              "      <td>0.48</td>\n",
              "      <td>19.70</td>\n",
              "      <td>0.95</td>\n",
              "      <td>0.26</td>\n",
              "      <td>0.16</td>\n",
              "      <td>3.20</td>\n",
              "      <td>0.050000</td>\n",
              "      <td>-20.45</td>\n",
              "      <td>-0.35</td>\n",
              "      <td>11.35</td>\n",
              "      <td>0.32</td>\n",
              "      <td>-8.45</td>\n",
              "      <td>0.15</td>\n",
              "      <td>0.05</td>\n",
              "      <td>0.07</td>\n",
              "      <td>2.60</td>\n",
              "      <td>-0.050000</td>\n",
              "      <td>3534.18</td>\n",
              "      <td>4226.17</td>\n",
              "      <td>-691.99</td>\n",
              "      <td>-101.50</td>\n",
              "      <td>68.1791</td>\n",
              "      <td>19948.599609</td>\n",
              "      <td>19811.119141</td>\n",
              "      <td>19924.560547</td>\n",
              "      <td>19899.289062</td>\n",
              "      <td>269920000.0</td>\n",
              "      <td>19899.289062</td>\n",
              "    </tr>\n",
              "    <tr>\n",
              "      <th>4</th>\n",
              "      <td>4</td>\n",
              "      <td>2017-01-06</td>\n",
              "      <td>1037.0</td>\n",
              "      <td>132.90</td>\n",
              "      <td>916.35</td>\n",
              "      <td>7.35</td>\n",
              "      <td>1216.55</td>\n",
              "      <td>24.9</td>\n",
              "      <td>15.26</td>\n",
              "      <td>2.36</td>\n",
              "      <td>54.20</td>\n",
              "      <td>101.166667</td>\n",
              "      <td>1048.0</td>\n",
              "      <td>133.00</td>\n",
              "      <td>932.15</td>\n",
              "      <td>7.55</td>\n",
              "      <td>1232.4</td>\n",
              "      <td>25.00</td>\n",
              "      <td>15.45</td>\n",
              "      <td>2.45</td>\n",
              "      <td>54.35</td>\n",
              "      <td>101.766667</td>\n",
              "      <td>1035.55</td>\n",
              "      <td>129.55</td>\n",
              "      <td>915.0</td>\n",
              "      <td>7.21</td>\n",
              "      <td>1216.55</td>\n",
              "      <td>23.00</td>\n",
              "      <td>15.01</td>\n",
              "      <td>2.35</td>\n",
              "      <td>52.75</td>\n",
              "      <td>101.133333</td>\n",
              "      <td>1043.90</td>\n",
              "      <td>130.10</td>\n",
              "      <td>928.05</td>\n",
              "      <td>7.40</td>\n",
              "      <td>1222.15</td>\n",
              "      <td>24.95</td>\n",
              "      <td>15.11</td>\n",
              "      <td>2.45</td>\n",
              "      <td>...</td>\n",
              "      <td>49.28</td>\n",
              "      <td>12.28</td>\n",
              "      <td>85.11</td>\n",
              "      <td>82.03</td>\n",
              "      <td>70.79</td>\n",
              "      <td>73.11</td>\n",
              "      <td>87.23</td>\n",
              "      <td>38.97</td>\n",
              "      <td>83.333333</td>\n",
              "      <td>12.45</td>\n",
              "      <td>3.45</td>\n",
              "      <td>17.15</td>\n",
              "      <td>0.34</td>\n",
              "      <td>15.85</td>\n",
              "      <td>2.00</td>\n",
              "      <td>0.44</td>\n",
              "      <td>0.10</td>\n",
              "      <td>1.60</td>\n",
              "      <td>0.633333</td>\n",
              "      <td>6.90</td>\n",
              "      <td>-2.80</td>\n",
              "      <td>11.70</td>\n",
              "      <td>0.05</td>\n",
              "      <td>5.60</td>\n",
              "      <td>0.05</td>\n",
              "      <td>-0.15</td>\n",
              "      <td>0.09</td>\n",
              "      <td>-0.90</td>\n",
              "      <td>0.566667</td>\n",
              "      <td>4542.58</td>\n",
              "      <td>4581.72</td>\n",
              "      <td>-39.14</td>\n",
              "      <td>-5.77</td>\n",
              "      <td>67.7884</td>\n",
              "      <td>19999.630859</td>\n",
              "      <td>19834.080078</td>\n",
              "      <td>19906.960938</td>\n",
              "      <td>19963.800781</td>\n",
              "      <td>277700000.0</td>\n",
              "      <td>19963.800781</td>\n",
              "    </tr>\n",
              "  </tbody>\n",
              "</table>\n",
              "<p>5 rows × 133 columns</p>\n",
              "</div>"
            ],
            "text/plain": [
              "   Unnamed: 0        Date  ...       Volume     Adj Close\n",
              "0           0  2017-01-02  ...          NaN           NaN\n",
              "1           1  2017-01-03  ...  339180000.0  19881.759766\n",
              "2           2  2017-01-04  ...  280010000.0  19942.160156\n",
              "3           3  2017-01-05  ...  269920000.0  19899.289062\n",
              "4           4  2017-01-06  ...  277700000.0  19963.800781\n",
              "\n",
              "[5 rows x 133 columns]"
            ]
          },
          "metadata": {
            "tags": []
          },
          "execution_count": 5
        }
      ]
    },
    {
      "cell_type": "code",
      "metadata": {
        "id": "NEOLMg5T9rbm",
        "colab_type": "code",
        "colab": {
          "base_uri": "https://localhost:8080/",
          "height": 158
        },
        "outputId": "e9b5536b-5d76-49cb-e568-9c3b0654f7a6"
      },
      "source": [
        "print(dataset.columns)"
      ],
      "execution_count": 6,
      "outputs": [
        {
          "output_type": "stream",
          "text": [
            "Index(['Unnamed: 0', 'Date', 'Open_BOM500002', 'Open_BOM500003',\n",
            "       'Open_BOM500008', 'Open_BOM500009', 'Open_BOM500010', 'Open_BOM500012',\n",
            "       'Open_BOM500013', 'Open_BOM500014',\n",
            "       ...\n",
            "       'Gross_Sales', 'Net_Investment_INR', 'Net_Investment_USD',\n",
            "       'Conversion_Rate', 'High', 'Low', 'Open', 'Close', 'Volume',\n",
            "       'Adj Close'],\n",
            "      dtype='object', length=133)\n"
          ],
          "name": "stdout"
        }
      ]
    },
    {
      "cell_type": "code",
      "metadata": {
        "id": "G-2jEllr8JDR",
        "colab_type": "code",
        "colab": {}
      },
      "source": [
        "#select only 1 stock Open and close, Conversion_rate , Dowjones Open and close columns\n",
        "features= ['Date','Open_BOM500002','Close_BOM500002', 'Conversion_Rate','Open','Close']\n",
        "sub_dataset=dataset[features]"
      ],
      "execution_count": 7,
      "outputs": []
    },
    {
      "cell_type": "code",
      "metadata": {
        "id": "N4TGDobMeFaK",
        "colab_type": "code",
        "colab": {}
      },
      "source": [
        "#Rename DJI Open and CLose\n",
        "sub_dataset=sub_dataset.rename(columns={\"Open\": \"DJIOpen\", \"Close\": \"DJIClose\"})"
      ],
      "execution_count": 8,
      "outputs": []
    },
    {
      "cell_type": "code",
      "metadata": {
        "id": "PEDi2x_d-HM2",
        "colab_type": "code",
        "colab": {
          "base_uri": "https://localhost:8080/",
          "height": 197
        },
        "outputId": "7aab7ec5-da74-42da-aea2-35b22d83bc66"
      },
      "source": [
        "sub_dataset.head()"
      ],
      "execution_count": 9,
      "outputs": [
        {
          "output_type": "execute_result",
          "data": {
            "text/html": [
              "<div>\n",
              "<style scoped>\n",
              "    .dataframe tbody tr th:only-of-type {\n",
              "        vertical-align: middle;\n",
              "    }\n",
              "\n",
              "    .dataframe tbody tr th {\n",
              "        vertical-align: top;\n",
              "    }\n",
              "\n",
              "    .dataframe thead th {\n",
              "        text-align: right;\n",
              "    }\n",
              "</style>\n",
              "<table border=\"1\" class=\"dataframe\">\n",
              "  <thead>\n",
              "    <tr style=\"text-align: right;\">\n",
              "      <th></th>\n",
              "      <th>Date</th>\n",
              "      <th>Open_BOM500002</th>\n",
              "      <th>Close_BOM500002</th>\n",
              "      <th>Conversion_Rate</th>\n",
              "      <th>DJIOpen</th>\n",
              "      <th>DJIClose</th>\n",
              "    </tr>\n",
              "  </thead>\n",
              "  <tbody>\n",
              "    <tr>\n",
              "      <th>0</th>\n",
              "      <td>2017-01-02</td>\n",
              "      <td>1045.0</td>\n",
              "      <td>1039.95</td>\n",
              "      <td>67.9547</td>\n",
              "      <td>NaN</td>\n",
              "      <td>NaN</td>\n",
              "    </tr>\n",
              "    <tr>\n",
              "      <th>1</th>\n",
              "      <td>2017-01-03</td>\n",
              "      <td>1069.9</td>\n",
              "      <td>1045.05</td>\n",
              "      <td>68.0225</td>\n",
              "      <td>19872.859375</td>\n",
              "      <td>19881.759766</td>\n",
              "    </tr>\n",
              "    <tr>\n",
              "      <th>2</th>\n",
              "      <td>2017-01-04</td>\n",
              "      <td>1050.0</td>\n",
              "      <td>1037.35</td>\n",
              "      <td>68.0864</td>\n",
              "      <td>19890.939453</td>\n",
              "      <td>19942.160156</td>\n",
              "    </tr>\n",
              "    <tr>\n",
              "      <th>3</th>\n",
              "      <td>2017-01-05</td>\n",
              "      <td>1051.9</td>\n",
              "      <td>1031.45</td>\n",
              "      <td>68.1791</td>\n",
              "      <td>19924.560547</td>\n",
              "      <td>19899.289062</td>\n",
              "    </tr>\n",
              "    <tr>\n",
              "      <th>4</th>\n",
              "      <td>2017-01-06</td>\n",
              "      <td>1037.0</td>\n",
              "      <td>1043.90</td>\n",
              "      <td>67.7884</td>\n",
              "      <td>19906.960938</td>\n",
              "      <td>19963.800781</td>\n",
              "    </tr>\n",
              "  </tbody>\n",
              "</table>\n",
              "</div>"
            ],
            "text/plain": [
              "         Date  Open_BOM500002  ...       DJIOpen      DJIClose\n",
              "0  2017-01-02          1045.0  ...           NaN           NaN\n",
              "1  2017-01-03          1069.9  ...  19872.859375  19881.759766\n",
              "2  2017-01-04          1050.0  ...  19890.939453  19942.160156\n",
              "3  2017-01-05          1051.9  ...  19924.560547  19899.289062\n",
              "4  2017-01-06          1037.0  ...  19906.960938  19963.800781\n",
              "\n",
              "[5 rows x 6 columns]"
            ]
          },
          "metadata": {
            "tags": []
          },
          "execution_count": 9
        }
      ]
    },
    {
      "cell_type": "code",
      "metadata": {
        "id": "iQcdtlx2-Qek",
        "colab_type": "code",
        "colab": {
          "base_uri": "https://localhost:8080/",
          "height": 406
        },
        "outputId": "63c4cf2a-f169-4ae4-f45c-ddbe1abe9d93"
      },
      "source": [
        "sub_dataset.sort_values(by='Date')"
      ],
      "execution_count": 10,
      "outputs": [
        {
          "output_type": "execute_result",
          "data": {
            "text/html": [
              "<div>\n",
              "<style scoped>\n",
              "    .dataframe tbody tr th:only-of-type {\n",
              "        vertical-align: middle;\n",
              "    }\n",
              "\n",
              "    .dataframe tbody tr th {\n",
              "        vertical-align: top;\n",
              "    }\n",
              "\n",
              "    .dataframe thead th {\n",
              "        text-align: right;\n",
              "    }\n",
              "</style>\n",
              "<table border=\"1\" class=\"dataframe\">\n",
              "  <thead>\n",
              "    <tr style=\"text-align: right;\">\n",
              "      <th></th>\n",
              "      <th>Date</th>\n",
              "      <th>Open_BOM500002</th>\n",
              "      <th>Close_BOM500002</th>\n",
              "      <th>Conversion_Rate</th>\n",
              "      <th>DJIOpen</th>\n",
              "      <th>DJIClose</th>\n",
              "    </tr>\n",
              "  </thead>\n",
              "  <tbody>\n",
              "    <tr>\n",
              "      <th>0</th>\n",
              "      <td>2017-01-02</td>\n",
              "      <td>1045.00</td>\n",
              "      <td>1039.95</td>\n",
              "      <td>67.9547</td>\n",
              "      <td>NaN</td>\n",
              "      <td>NaN</td>\n",
              "    </tr>\n",
              "    <tr>\n",
              "      <th>1</th>\n",
              "      <td>2017-01-03</td>\n",
              "      <td>1069.90</td>\n",
              "      <td>1045.05</td>\n",
              "      <td>68.0225</td>\n",
              "      <td>19872.859375</td>\n",
              "      <td>19881.759766</td>\n",
              "    </tr>\n",
              "    <tr>\n",
              "      <th>2</th>\n",
              "      <td>2017-01-04</td>\n",
              "      <td>1050.00</td>\n",
              "      <td>1037.35</td>\n",
              "      <td>68.0864</td>\n",
              "      <td>19890.939453</td>\n",
              "      <td>19942.160156</td>\n",
              "    </tr>\n",
              "    <tr>\n",
              "      <th>3</th>\n",
              "      <td>2017-01-05</td>\n",
              "      <td>1051.90</td>\n",
              "      <td>1031.45</td>\n",
              "      <td>68.1791</td>\n",
              "      <td>19924.560547</td>\n",
              "      <td>19899.289062</td>\n",
              "    </tr>\n",
              "    <tr>\n",
              "      <th>4</th>\n",
              "      <td>2017-01-06</td>\n",
              "      <td>1037.00</td>\n",
              "      <td>1043.90</td>\n",
              "      <td>67.7884</td>\n",
              "      <td>19906.960938</td>\n",
              "      <td>19963.800781</td>\n",
              "    </tr>\n",
              "    <tr>\n",
              "      <th>...</th>\n",
              "      <td>...</td>\n",
              "      <td>...</td>\n",
              "      <td>...</td>\n",
              "      <td>...</td>\n",
              "      <td>...</td>\n",
              "      <td>...</td>\n",
              "    </tr>\n",
              "    <tr>\n",
              "      <th>857</th>\n",
              "      <td>2020-06-24</td>\n",
              "      <td>854.65</td>\n",
              "      <td>866.50</td>\n",
              "      <td>75.7549</td>\n",
              "      <td>25992.960938</td>\n",
              "      <td>25445.939453</td>\n",
              "    </tr>\n",
              "    <tr>\n",
              "      <th>858</th>\n",
              "      <td>2020-06-25</td>\n",
              "      <td>870.00</td>\n",
              "      <td>887.50</td>\n",
              "      <td>75.7087</td>\n",
              "      <td>25365.220703</td>\n",
              "      <td>25745.599609</td>\n",
              "    </tr>\n",
              "    <tr>\n",
              "      <th>859</th>\n",
              "      <td>2020-06-26</td>\n",
              "      <td>888.00</td>\n",
              "      <td>913.60</td>\n",
              "      <td>75.6349</td>\n",
              "      <td>25641.689453</td>\n",
              "      <td>25015.550781</td>\n",
              "    </tr>\n",
              "    <tr>\n",
              "      <th>860</th>\n",
              "      <td>2020-06-29</td>\n",
              "      <td>915.00</td>\n",
              "      <td>919.90</td>\n",
              "      <td>75.4757</td>\n",
              "      <td>25152.449219</td>\n",
              "      <td>25595.800781</td>\n",
              "    </tr>\n",
              "    <tr>\n",
              "      <th>861</th>\n",
              "      <td>2020-06-30</td>\n",
              "      <td>925.00</td>\n",
              "      <td>943.60</td>\n",
              "      <td>75.5680</td>\n",
              "      <td>25512.429688</td>\n",
              "      <td>25812.880859</td>\n",
              "    </tr>\n",
              "  </tbody>\n",
              "</table>\n",
              "<p>862 rows × 6 columns</p>\n",
              "</div>"
            ],
            "text/plain": [
              "           Date  Open_BOM500002  ...       DJIOpen      DJIClose\n",
              "0    2017-01-02         1045.00  ...           NaN           NaN\n",
              "1    2017-01-03         1069.90  ...  19872.859375  19881.759766\n",
              "2    2017-01-04         1050.00  ...  19890.939453  19942.160156\n",
              "3    2017-01-05         1051.90  ...  19924.560547  19899.289062\n",
              "4    2017-01-06         1037.00  ...  19906.960938  19963.800781\n",
              "..          ...             ...  ...           ...           ...\n",
              "857  2020-06-24          854.65  ...  25992.960938  25445.939453\n",
              "858  2020-06-25          870.00  ...  25365.220703  25745.599609\n",
              "859  2020-06-26          888.00  ...  25641.689453  25015.550781\n",
              "860  2020-06-29          915.00  ...  25152.449219  25595.800781\n",
              "861  2020-06-30          925.00  ...  25512.429688  25812.880859\n",
              "\n",
              "[862 rows x 6 columns]"
            ]
          },
          "metadata": {
            "tags": []
          },
          "execution_count": 10
        }
      ]
    },
    {
      "cell_type": "code",
      "metadata": {
        "id": "kwnaM2KJ-vK0",
        "colab_type": "code",
        "colab": {}
      },
      "source": [
        "#parse string to datetime\n",
        "sub_dataset['Date']=pd.to_datetime(sub_dataset['Date'],infer_datetime_format=True)\n"
      ],
      "execution_count": 11,
      "outputs": []
    },
    {
      "cell_type": "code",
      "metadata": {
        "id": "wazZLlIsF1K3",
        "colab_type": "code",
        "colab": {}
      },
      "source": [
        "sub_dataset.set_index('Date',inplace=True)"
      ],
      "execution_count": 12,
      "outputs": []
    },
    {
      "cell_type": "code",
      "metadata": {
        "id": "PcQwuswR2ezV",
        "colab_type": "code",
        "colab": {
          "base_uri": "https://localhost:8080/",
          "height": 34
        },
        "outputId": "71cf1322-7feb-41cb-dfc9-f1e90a4d66df"
      },
      "source": [
        "sub_dataset.index.min()"
      ],
      "execution_count": 13,
      "outputs": [
        {
          "output_type": "execute_result",
          "data": {
            "text/plain": [
              "Timestamp('2017-01-02 00:00:00')"
            ]
          },
          "metadata": {
            "tags": []
          },
          "execution_count": 13
        }
      ]
    },
    {
      "cell_type": "code",
      "metadata": {
        "id": "HqlP2s6q27Gb",
        "colab_type": "code",
        "colab": {
          "base_uri": "https://localhost:8080/",
          "height": 34
        },
        "outputId": "e5f6e9b6-d7ef-4eca-d394-b625778fe79c"
      },
      "source": [
        "#generate New DateTime Index with Freq as Business working days, which will be used as Index to Dataframe\n",
        "index_range=pd.date_range(start=sub_dataset.index.min(), end=sub_dataset.index.max(), freq='B')\n",
        "index_range.shape"
      ],
      "execution_count": 14,
      "outputs": [
        {
          "output_type": "execute_result",
          "data": {
            "text/plain": [
              "(912,)"
            ]
          },
          "metadata": {
            "tags": []
          },
          "execution_count": 14
        }
      ]
    },
    {
      "cell_type": "code",
      "metadata": {
        "id": "5ljWFChH82yp",
        "colab_type": "code",
        "colab": {
          "base_uri": "https://localhost:8080/",
          "height": 176
        },
        "outputId": "163f3977-86b5-4882-9c41-f92cf3a05ea1"
      },
      "source": [
        "#Generate Dummy DataFrame used to merge wih sub_dataset\n",
        "TempDataset=pd.DataFrame(index_range,columns={'Date'},index=index_range)\n",
        "TempDataset.info()"
      ],
      "execution_count": 15,
      "outputs": [
        {
          "output_type": "stream",
          "text": [
            "<class 'pandas.core.frame.DataFrame'>\n",
            "DatetimeIndex: 912 entries, 2017-01-02 to 2020-06-30\n",
            "Freq: B\n",
            "Data columns (total 1 columns):\n",
            " #   Column  Non-Null Count  Dtype         \n",
            "---  ------  --------------  -----         \n",
            " 0   Date    912 non-null    datetime64[ns]\n",
            "dtypes: datetime64[ns](1)\n",
            "memory usage: 14.2 KB\n"
          ],
          "name": "stdout"
        }
      ]
    },
    {
      "cell_type": "code",
      "metadata": {
        "id": "E82e3F4KEGf_",
        "colab_type": "code",
        "colab": {
          "base_uri": "https://localhost:8080/",
          "height": 158
        },
        "outputId": "c8269648-81fe-468e-ec4c-ed61aca89d12"
      },
      "source": [
        "TempDataset.index"
      ],
      "execution_count": 16,
      "outputs": [
        {
          "output_type": "execute_result",
          "data": {
            "text/plain": [
              "DatetimeIndex(['2017-01-02', '2017-01-03', '2017-01-04', '2017-01-05',\n",
              "               '2017-01-06', '2017-01-09', '2017-01-10', '2017-01-11',\n",
              "               '2017-01-12', '2017-01-13',\n",
              "               ...\n",
              "               '2020-06-17', '2020-06-18', '2020-06-19', '2020-06-22',\n",
              "               '2020-06-23', '2020-06-24', '2020-06-25', '2020-06-26',\n",
              "               '2020-06-29', '2020-06-30'],\n",
              "              dtype='datetime64[ns]', length=912, freq='B')"
            ]
          },
          "metadata": {
            "tags": []
          },
          "execution_count": 16
        }
      ]
    },
    {
      "cell_type": "code",
      "metadata": {
        "id": "eI5dMIQt-2Vq",
        "colab_type": "code",
        "colab": {}
      },
      "source": [
        "#Concatenate sub_dataset and TestDataset \n",
        "IndexedDataset = pd.merge(TempDataset\n",
        "                   ,sub_dataset\n",
        "                   #,left_on='Date'\n",
        "                   #,right_on='Date'\n",
        "                   ,how= 'left'\n",
        "                   ,left_index =True\n",
        "                   ,right_index=True)"
      ],
      "execution_count": 17,
      "outputs": []
    },
    {
      "cell_type": "code",
      "metadata": {
        "id": "Tty0n_rN_lp_",
        "colab_type": "code",
        "colab": {
          "base_uri": "https://localhost:8080/",
          "height": 197
        },
        "outputId": "b5bbfd55-7f0c-4c32-ac47-42cb7cb0091d"
      },
      "source": [
        "IndexedDataset.head()"
      ],
      "execution_count": 18,
      "outputs": [
        {
          "output_type": "execute_result",
          "data": {
            "text/html": [
              "<div>\n",
              "<style scoped>\n",
              "    .dataframe tbody tr th:only-of-type {\n",
              "        vertical-align: middle;\n",
              "    }\n",
              "\n",
              "    .dataframe tbody tr th {\n",
              "        vertical-align: top;\n",
              "    }\n",
              "\n",
              "    .dataframe thead th {\n",
              "        text-align: right;\n",
              "    }\n",
              "</style>\n",
              "<table border=\"1\" class=\"dataframe\">\n",
              "  <thead>\n",
              "    <tr style=\"text-align: right;\">\n",
              "      <th></th>\n",
              "      <th>Date</th>\n",
              "      <th>Open_BOM500002</th>\n",
              "      <th>Close_BOM500002</th>\n",
              "      <th>Conversion_Rate</th>\n",
              "      <th>DJIOpen</th>\n",
              "      <th>DJIClose</th>\n",
              "    </tr>\n",
              "  </thead>\n",
              "  <tbody>\n",
              "    <tr>\n",
              "      <th>2017-01-02</th>\n",
              "      <td>2017-01-02</td>\n",
              "      <td>1045.0</td>\n",
              "      <td>1039.95</td>\n",
              "      <td>67.9547</td>\n",
              "      <td>NaN</td>\n",
              "      <td>NaN</td>\n",
              "    </tr>\n",
              "    <tr>\n",
              "      <th>2017-01-03</th>\n",
              "      <td>2017-01-03</td>\n",
              "      <td>1069.9</td>\n",
              "      <td>1045.05</td>\n",
              "      <td>68.0225</td>\n",
              "      <td>19872.859375</td>\n",
              "      <td>19881.759766</td>\n",
              "    </tr>\n",
              "    <tr>\n",
              "      <th>2017-01-04</th>\n",
              "      <td>2017-01-04</td>\n",
              "      <td>1050.0</td>\n",
              "      <td>1037.35</td>\n",
              "      <td>68.0864</td>\n",
              "      <td>19890.939453</td>\n",
              "      <td>19942.160156</td>\n",
              "    </tr>\n",
              "    <tr>\n",
              "      <th>2017-01-05</th>\n",
              "      <td>2017-01-05</td>\n",
              "      <td>1051.9</td>\n",
              "      <td>1031.45</td>\n",
              "      <td>68.1791</td>\n",
              "      <td>19924.560547</td>\n",
              "      <td>19899.289062</td>\n",
              "    </tr>\n",
              "    <tr>\n",
              "      <th>2017-01-06</th>\n",
              "      <td>2017-01-06</td>\n",
              "      <td>1037.0</td>\n",
              "      <td>1043.90</td>\n",
              "      <td>67.7884</td>\n",
              "      <td>19906.960938</td>\n",
              "      <td>19963.800781</td>\n",
              "    </tr>\n",
              "  </tbody>\n",
              "</table>\n",
              "</div>"
            ],
            "text/plain": [
              "                 Date  Open_BOM500002  ...       DJIOpen      DJIClose\n",
              "2017-01-02 2017-01-02          1045.0  ...           NaN           NaN\n",
              "2017-01-03 2017-01-03          1069.9  ...  19872.859375  19881.759766\n",
              "2017-01-04 2017-01-04          1050.0  ...  19890.939453  19942.160156\n",
              "2017-01-05 2017-01-05          1051.9  ...  19924.560547  19899.289062\n",
              "2017-01-06 2017-01-06          1037.0  ...  19906.960938  19963.800781\n",
              "\n",
              "[5 rows x 6 columns]"
            ]
          },
          "metadata": {
            "tags": []
          },
          "execution_count": 18
        }
      ]
    },
    {
      "cell_type": "code",
      "metadata": {
        "id": "9drn22-IAjC0",
        "colab_type": "code",
        "colab": {
          "base_uri": "https://localhost:8080/",
          "height": 347
        },
        "outputId": "030b3441-bda2-4d42-9349-512759146bb5"
      },
      "source": [
        "IndexedDataset.tail(10)"
      ],
      "execution_count": 19,
      "outputs": [
        {
          "output_type": "execute_result",
          "data": {
            "text/html": [
              "<div>\n",
              "<style scoped>\n",
              "    .dataframe tbody tr th:only-of-type {\n",
              "        vertical-align: middle;\n",
              "    }\n",
              "\n",
              "    .dataframe tbody tr th {\n",
              "        vertical-align: top;\n",
              "    }\n",
              "\n",
              "    .dataframe thead th {\n",
              "        text-align: right;\n",
              "    }\n",
              "</style>\n",
              "<table border=\"1\" class=\"dataframe\">\n",
              "  <thead>\n",
              "    <tr style=\"text-align: right;\">\n",
              "      <th></th>\n",
              "      <th>Date</th>\n",
              "      <th>Open_BOM500002</th>\n",
              "      <th>Close_BOM500002</th>\n",
              "      <th>Conversion_Rate</th>\n",
              "      <th>DJIOpen</th>\n",
              "      <th>DJIClose</th>\n",
              "    </tr>\n",
              "  </thead>\n",
              "  <tbody>\n",
              "    <tr>\n",
              "      <th>2020-06-17</th>\n",
              "      <td>2020-06-17</td>\n",
              "      <td>794.00</td>\n",
              "      <td>784.40</td>\n",
              "      <td>75.8410</td>\n",
              "      <td>26330.519531</td>\n",
              "      <td>26119.609375</td>\n",
              "    </tr>\n",
              "    <tr>\n",
              "      <th>2020-06-18</th>\n",
              "      <td>2020-06-18</td>\n",
              "      <td>790.00</td>\n",
              "      <td>788.05</td>\n",
              "      <td>76.2032</td>\n",
              "      <td>26016.449219</td>\n",
              "      <td>26080.099609</td>\n",
              "    </tr>\n",
              "    <tr>\n",
              "      <th>2020-06-19</th>\n",
              "      <td>2020-06-19</td>\n",
              "      <td>798.00</td>\n",
              "      <td>812.50</td>\n",
              "      <td>76.1509</td>\n",
              "      <td>26213.099609</td>\n",
              "      <td>25871.460938</td>\n",
              "    </tr>\n",
              "    <tr>\n",
              "      <th>2020-06-22</th>\n",
              "      <td>2020-06-22</td>\n",
              "      <td>813.00</td>\n",
              "      <td>832.90</td>\n",
              "      <td>76.2144</td>\n",
              "      <td>25865.080078</td>\n",
              "      <td>26024.960938</td>\n",
              "    </tr>\n",
              "    <tr>\n",
              "      <th>2020-06-23</th>\n",
              "      <td>2020-06-23</td>\n",
              "      <td>833.00</td>\n",
              "      <td>855.05</td>\n",
              "      <td>76.0620</td>\n",
              "      <td>26159.390625</td>\n",
              "      <td>26156.099609</td>\n",
              "    </tr>\n",
              "    <tr>\n",
              "      <th>2020-06-24</th>\n",
              "      <td>2020-06-24</td>\n",
              "      <td>854.65</td>\n",
              "      <td>866.50</td>\n",
              "      <td>75.7549</td>\n",
              "      <td>25992.960938</td>\n",
              "      <td>25445.939453</td>\n",
              "    </tr>\n",
              "    <tr>\n",
              "      <th>2020-06-25</th>\n",
              "      <td>2020-06-25</td>\n",
              "      <td>870.00</td>\n",
              "      <td>887.50</td>\n",
              "      <td>75.7087</td>\n",
              "      <td>25365.220703</td>\n",
              "      <td>25745.599609</td>\n",
              "    </tr>\n",
              "    <tr>\n",
              "      <th>2020-06-26</th>\n",
              "      <td>2020-06-26</td>\n",
              "      <td>888.00</td>\n",
              "      <td>913.60</td>\n",
              "      <td>75.6349</td>\n",
              "      <td>25641.689453</td>\n",
              "      <td>25015.550781</td>\n",
              "    </tr>\n",
              "    <tr>\n",
              "      <th>2020-06-29</th>\n",
              "      <td>2020-06-29</td>\n",
              "      <td>915.00</td>\n",
              "      <td>919.90</td>\n",
              "      <td>75.4757</td>\n",
              "      <td>25152.449219</td>\n",
              "      <td>25595.800781</td>\n",
              "    </tr>\n",
              "    <tr>\n",
              "      <th>2020-06-30</th>\n",
              "      <td>2020-06-30</td>\n",
              "      <td>925.00</td>\n",
              "      <td>943.60</td>\n",
              "      <td>75.5680</td>\n",
              "      <td>25512.429688</td>\n",
              "      <td>25812.880859</td>\n",
              "    </tr>\n",
              "  </tbody>\n",
              "</table>\n",
              "</div>"
            ],
            "text/plain": [
              "                 Date  Open_BOM500002  ...       DJIOpen      DJIClose\n",
              "2020-06-17 2020-06-17          794.00  ...  26330.519531  26119.609375\n",
              "2020-06-18 2020-06-18          790.00  ...  26016.449219  26080.099609\n",
              "2020-06-19 2020-06-19          798.00  ...  26213.099609  25871.460938\n",
              "2020-06-22 2020-06-22          813.00  ...  25865.080078  26024.960938\n",
              "2020-06-23 2020-06-23          833.00  ...  26159.390625  26156.099609\n",
              "2020-06-24 2020-06-24          854.65  ...  25992.960938  25445.939453\n",
              "2020-06-25 2020-06-25          870.00  ...  25365.220703  25745.599609\n",
              "2020-06-26 2020-06-26          888.00  ...  25641.689453  25015.550781\n",
              "2020-06-29 2020-06-29          915.00  ...  25152.449219  25595.800781\n",
              "2020-06-30 2020-06-30          925.00  ...  25512.429688  25812.880859\n",
              "\n",
              "[10 rows x 6 columns]"
            ]
          },
          "metadata": {
            "tags": []
          },
          "execution_count": 19
        }
      ]
    },
    {
      "cell_type": "code",
      "metadata": {
        "id": "I99lVE0f_4aF",
        "colab_type": "code",
        "colab": {
          "base_uri": "https://localhost:8080/",
          "height": 34
        },
        "outputId": "052950d3-e71b-457e-ca23-35379bf5c763"
      },
      "source": [
        "IndexedDataset.shape"
      ],
      "execution_count": 20,
      "outputs": [
        {
          "output_type": "execute_result",
          "data": {
            "text/plain": [
              "(912, 6)"
            ]
          },
          "metadata": {
            "tags": []
          },
          "execution_count": 20
        }
      ]
    },
    {
      "cell_type": "code",
      "metadata": {
        "id": "pEbuqR2B_0L8",
        "colab_type": "code",
        "colab": {
          "base_uri": "https://localhost:8080/",
          "height": 265
        },
        "outputId": "d62bcee0-0627-4e7c-8c4a-cb83b6b7032c"
      },
      "source": [
        "IndexedDataset.info()"
      ],
      "execution_count": 21,
      "outputs": [
        {
          "output_type": "stream",
          "text": [
            "<class 'pandas.core.frame.DataFrame'>\n",
            "DatetimeIndex: 912 entries, 2017-01-02 to 2020-06-30\n",
            "Freq: B\n",
            "Data columns (total 6 columns):\n",
            " #   Column           Non-Null Count  Dtype         \n",
            "---  ------           --------------  -----         \n",
            " 0   Date             912 non-null    datetime64[ns]\n",
            " 1   Open_BOM500002   860 non-null    float64       \n",
            " 2   Close_BOM500002  860 non-null    float64       \n",
            " 3   Conversion_Rate  860 non-null    float64       \n",
            " 4   DJIOpen          859 non-null    float64       \n",
            " 5   DJIClose         859 non-null    float64       \n",
            "dtypes: datetime64[ns](1), float64(5)\n",
            "memory usage: 89.9 KB\n"
          ],
          "name": "stdout"
        }
      ]
    },
    {
      "cell_type": "code",
      "metadata": {
        "id": "_ow6kH8TGMIX",
        "colab_type": "code",
        "colab": {
          "base_uri": "https://localhost:8080/",
          "height": 158
        },
        "outputId": "c20e7a4d-516d-483b-c1c7-db7527d4d73a"
      },
      "source": [
        "IndexedDataset.index"
      ],
      "execution_count": 22,
      "outputs": [
        {
          "output_type": "execute_result",
          "data": {
            "text/plain": [
              "DatetimeIndex(['2017-01-02', '2017-01-03', '2017-01-04', '2017-01-05',\n",
              "               '2017-01-06', '2017-01-09', '2017-01-10', '2017-01-11',\n",
              "               '2017-01-12', '2017-01-13',\n",
              "               ...\n",
              "               '2020-06-17', '2020-06-18', '2020-06-19', '2020-06-22',\n",
              "               '2020-06-23', '2020-06-24', '2020-06-25', '2020-06-26',\n",
              "               '2020-06-29', '2020-06-30'],\n",
              "              dtype='datetime64[ns]', length=912, freq='B')"
            ]
          },
          "metadata": {
            "tags": []
          },
          "execution_count": 22
        }
      ]
    },
    {
      "cell_type": "code",
      "metadata": {
        "id": "vGNyiWqkJRQL",
        "colab_type": "code",
        "colab": {
          "base_uri": "https://localhost:8080/",
          "height": 158
        },
        "outputId": "2a679862-3282-4ae6-90df-aa7282d67c33"
      },
      "source": [
        "test=IndexedDataset.interpolate()\n",
        "test.index"
      ],
      "execution_count": 23,
      "outputs": [
        {
          "output_type": "execute_result",
          "data": {
            "text/plain": [
              "DatetimeIndex(['2017-01-02', '2017-01-03', '2017-01-04', '2017-01-05',\n",
              "               '2017-01-06', '2017-01-09', '2017-01-10', '2017-01-11',\n",
              "               '2017-01-12', '2017-01-13',\n",
              "               ...\n",
              "               '2020-06-17', '2020-06-18', '2020-06-19', '2020-06-22',\n",
              "               '2020-06-23', '2020-06-24', '2020-06-25', '2020-06-26',\n",
              "               '2020-06-29', '2020-06-30'],\n",
              "              dtype='datetime64[ns]', length=912, freq='B')"
            ]
          },
          "metadata": {
            "tags": []
          },
          "execution_count": 23
        }
      ]
    },
    {
      "cell_type": "code",
      "metadata": {
        "id": "rtEbYXqyAidN",
        "colab_type": "code",
        "colab": {
          "base_uri": "https://localhost:8080/",
          "height": 296
        },
        "outputId": "d0e71f3a-a0f4-4794-8ec5-abd0ca6eba0c"
      },
      "source": [
        "#plot Graph\n",
        "#Plot stock Close price  against Date \n",
        "plt.scatter(IndexedDataset.index,\n",
        "               IndexedDataset['Close_BOM500002'],\n",
        "               color='blue',\n",
        "               s=20)\n",
        "plt.tick_params(labelcolor='none', top='off', bottom='off', left='off', right='off')\n",
        "plt.grid(False)\n",
        "\n",
        "plt.xlabel('Date', labelpad=40)\n",
        "plt.ylabel('Close Price ', labelpad=40)\n",
        "\n",
        "plt.tight_layout()\n",
        "plt.savefig('fig1.png')\n",
        "plt.show()\n",
        "plt.close()"
      ],
      "execution_count": 24,
      "outputs": [
        {
          "output_type": "display_data",
          "data": {
            "image/png": "[encoded data removed]",
            "text/plain": [
              "<Figure size 432x288 with 1 Axes>"
            ]
          },
          "metadata": {
            "tags": [],
            "needs_background": "light"
          }
        }
      ]
    },
    {
      "cell_type": "code",
      "metadata": {
        "id": "AmbY3Z0grVUB",
        "colab_type": "code",
        "colab": {
          "base_uri": "https://localhost:8080/",
          "height": 350
        },
        "outputId": "c64eb201-1a13-4ed1-aeee-50fd573a4fa4"
      },
      "source": [
        "#plot the Autocorrelation plot for feature 'Close'\n",
        "from pandas.plotting import lag_plot\n",
        "\n",
        "plt.figure(figsize=(5,5))\n",
        "lag_plot(IndexedDataset['Close_BOM500002'], lag=1)\n",
        "plt.title('Close_BOM500002 Autocorrelation plot - Lag 1');\n",
        "# END_CODE_HERE"
      ],
      "execution_count": 25,
      "outputs": [
        {
          "output_type": "display_data",
          "data": {
            "image/png": "[encoded data removed]",
            "text/plain": [
              "<Figure size 360x360 with 1 Axes>"
            ]
          },
          "metadata": {
            "tags": [],
            "needs_background": "light"
          }
        }
      ]
    },
    {
      "cell_type": "code",
      "metadata": {
        "id": "v5BxYaIdsqIO",
        "colab_type": "code",
        "colab": {
          "base_uri": "https://localhost:8080/",
          "height": 350
        },
        "outputId": "91283e34-a21a-49c0-8a64-452a216e55a2"
      },
      "source": [
        "#  plot the Autocorrelation plot for feature 'Close' with Lag5\n",
        "\n",
        "plt.figure(figsize=(5,5))\n",
        "lag_plot(IndexedDataset['Close_BOM500002'], lag=5)\n",
        "plt.title('Close_BOM500002 Autocorrelation plot - Lag 5');\n"
      ],
      "execution_count": 26,
      "outputs": [
        {
          "output_type": "display_data",
          "data": {
            "image/png": "[encoded data removed]",
            "text/plain": [
              "<Figure size 360x360 with 1 Axes>"
            ]
          },
          "metadata": {
            "tags": [],
            "needs_background": "light"
          }
        }
      ]
    },
    {
      "cell_type": "markdown",
      "metadata": {
        "id": "YcNrCl3vtHw4",
        "colab_type": "text"
      },
      "source": [
        "Build Train and Test Data set"
      ]
    },
    {
      "cell_type": "code",
      "metadata": {
        "id": "jQaaNcBEtN6z",
        "colab_type": "code",
        "colab": {}
      },
      "source": [
        "train_data, test_data = IndexedDataset.iloc[0:int(len(IndexedDataset)*0.8), :], IndexedDataset.iloc[int(len(IndexedDataset)*0.8):, :]"
      ],
      "execution_count": 27,
      "outputs": []
    },
    {
      "cell_type": "code",
      "metadata": {
        "id": "L0ZXKLdRtZNy",
        "colab_type": "code",
        "colab": {
          "base_uri": "https://localhost:8080/",
          "height": 265
        },
        "outputId": "caa09454-5808-4d72-c3fc-7cd79ba9fafa"
      },
      "source": [
        "train_data.info()"
      ],
      "execution_count": 28,
      "outputs": [
        {
          "output_type": "stream",
          "text": [
            "<class 'pandas.core.frame.DataFrame'>\n",
            "DatetimeIndex: 729 entries, 2017-01-02 to 2019-10-17\n",
            "Freq: B\n",
            "Data columns (total 6 columns):\n",
            " #   Column           Non-Null Count  Dtype         \n",
            "---  ------           --------------  -----         \n",
            " 0   Date             729 non-null    datetime64[ns]\n",
            " 1   Open_BOM500002   689 non-null    float64       \n",
            " 2   Close_BOM500002  689 non-null    float64       \n",
            " 3   Conversion_Rate  689 non-null    float64       \n",
            " 4   DJIOpen          688 non-null    float64       \n",
            " 5   DJIClose         688 non-null    float64       \n",
            "dtypes: datetime64[ns](1), float64(5)\n",
            "memory usage: 39.9 KB\n"
          ],
          "name": "stdout"
        }
      ]
    },
    {
      "cell_type": "code",
      "metadata": {
        "id": "yIbsXBd9tiVA",
        "colab_type": "code",
        "colab": {
          "base_uri": "https://localhost:8080/",
          "height": 265
        },
        "outputId": "94e11aec-3db1-47c4-e62b-785672facc1f"
      },
      "source": [
        "test_data.info()"
      ],
      "execution_count": 29,
      "outputs": [
        {
          "output_type": "stream",
          "text": [
            "<class 'pandas.core.frame.DataFrame'>\n",
            "DatetimeIndex: 183 entries, 2019-10-18 to 2020-06-30\n",
            "Freq: B\n",
            "Data columns (total 6 columns):\n",
            " #   Column           Non-Null Count  Dtype         \n",
            "---  ------           --------------  -----         \n",
            " 0   Date             183 non-null    datetime64[ns]\n",
            " 1   Open_BOM500002   171 non-null    float64       \n",
            " 2   Close_BOM500002  171 non-null    float64       \n",
            " 3   Conversion_Rate  171 non-null    float64       \n",
            " 4   DJIOpen          171 non-null    float64       \n",
            " 5   DJIClose         171 non-null    float64       \n",
            "dtypes: datetime64[ns](1), float64(5)\n",
            "memory usage: 10.0 KB\n"
          ],
          "name": "stdout"
        }
      ]
    },
    {
      "cell_type": "code",
      "metadata": {
        "id": "4Ik1pX0AttNx",
        "colab_type": "code",
        "colab": {
          "base_uri": "https://localhost:8080/",
          "height": 457
        },
        "outputId": "ba813922-6fe3-4342-bf71-398898772230"
      },
      "source": [
        "plt.figure(figsize=(12,7))\n",
        "plt.title('BOM500002 Prices')\n",
        "plt.xlabel('Dates')\n",
        "plt.ylabel('Prices')\n",
        "plt.plot(train_data['Close_BOM500002'], 'blue', label='Training Data')\n",
        "plt.plot(test_data['Close_BOM500002'], 'green', label='Testing Data')\n",
        "plt.legend();"
      ],
      "execution_count": 30,
      "outputs": [
        {
          "output_type": "display_data",
          "data": {
            "image/png": "[encoded data removed]",
            "text/plain": [
              "<Figure size 864x504 with 1 Axes>"
            ]
          },
          "metadata": {
            "tags": [],
            "needs_background": "light"
          }
        }
      ]
    },
    {
      "cell_type": "code",
      "metadata": {
        "id": "kukwvB5kAyrI",
        "colab_type": "code",
        "colab": {
          "base_uri": "https://localhost:8080/",
          "height": 496
        },
        "outputId": "02884699-3d30-4b66-eac8-183722039b5e"
      },
      "source": [
        "#Check Rolling mean and std\n",
        "rolmean = train_data.rolling(window=5).mean()\n",
        "rolstd =  train_data.rolling(window=5).std()\n",
        "\n",
        "print(rolmean,rolstd)"
      ],
      "execution_count": 31,
      "outputs": [
        {
          "output_type": "stream",
          "text": [
            "            Open_BOM500002  Close_BOM500002  ...       DJIOpen      DJIClose\n",
            "2017-01-02             NaN              NaN  ...           NaN           NaN\n",
            "2017-01-03             NaN              NaN  ...           NaN           NaN\n",
            "2017-01-04             NaN              NaN  ...           NaN           NaN\n",
            "2017-01-05             NaN              NaN  ...           NaN           NaN\n",
            "2017-01-06         1050.76          1039.54  ...           NaN           NaN\n",
            "...                    ...              ...  ...           ...           ...\n",
            "2019-10-11             NaN              NaN  ...           NaN           NaN\n",
            "2019-10-14             NaN              NaN  ...           NaN           NaN\n",
            "2019-10-15         1483.19          1481.14  ...  26579.481641  26694.285938\n",
            "2019-10-16         1490.35          1487.59  ...  26712.297656  26825.480078\n",
            "2019-10-17         1497.15          1498.80  ...  26855.303906  26931.322266\n",
            "\n",
            "[729 rows x 5 columns]             Open_BOM500002  Close_BOM500002  ...     DJIOpen    DJIClose\n",
            "2017-01-02             NaN              NaN  ...         NaN         NaN\n",
            "2017-01-03             NaN              NaN  ...         NaN         NaN\n",
            "2017-01-04             NaN              NaN  ...         NaN         NaN\n",
            "2017-01-05             NaN              NaN  ...         NaN         NaN\n",
            "2017-01-06       12.152489         5.472248  ...         NaN         NaN\n",
            "...                    ...              ...  ...         ...         ...\n",
            "2019-10-11             NaN              NaN  ...         NaN         NaN\n",
            "2019-10-14             NaN              NaN  ...         NaN         NaN\n",
            "2019-10-15        4.967947        12.113133  ...  247.028911  270.744046\n",
            "2019-10-16       16.661558        21.137981  ...  243.223155  212.443801\n",
            "2019-10-17       20.853237        21.256969  ...  142.166603  118.912767\n",
            "\n",
            "[729 rows x 5 columns]\n"
          ],
          "name": "stdout"
        }
      ]
    },
    {
      "cell_type": "code",
      "metadata": {
        "id": "4NUI6KadCowx",
        "colab_type": "code",
        "colab": {
          "base_uri": "https://localhost:8080/",
          "height": 281
        },
        "outputId": "b8ee92a4-7941-4d91-d08b-2d59852d5b0c"
      },
      "source": [
        "orig = plt.plot(train_data['Close_BOM500002'],color='blue',label='Original')\n",
        "mean= plt.plot(rolmean['Close_BOM500002'],color='red',label='Rolling Mean')\n",
        "std= plt.plot(rolstd['Close_BOM500002'],color='black',label='Rolling std')\n",
        "plt.legend(loc='best')\n",
        "plt.title('Rolling Mean & Std Deviation')\n",
        "plt.show(block=False)"
      ],
      "execution_count": 32,
      "outputs": [
        {
          "output_type": "display_data",
          "data": {
            "image/png": "[encoded data removed]",
            "text/plain": [
              "<Figure size 432x288 with 1 Axes>"
            ]
          },
          "metadata": {
            "tags": [],
            "needs_background": "light"
          }
        }
      ]
    },
    {
      "cell_type": "code",
      "metadata": {
        "id": "jGLivpkW3Pag",
        "colab_type": "code",
        "colab": {}
      },
      "source": [
        "def tsplot(y, lags=None, figsize=(15, 10), style='bmh'):\n",
        "    if not isinstance(y, pd.Series):\n",
        "        y = pd.Series(y)\n",
        "    with plt.style.context(style):    \n",
        "        fig = plt.figure(figsize=figsize)\n",
        "        layout = (3, 2)\n",
        "        ts_ax = plt.subplot2grid(layout, (0, 0), colspan=2)\n",
        "        acf_ax = plt.subplot2grid(layout, (1, 0))\n",
        "        pacf_ax = plt.subplot2grid(layout, (1, 1))\n",
        "        qq_ax = plt.subplot2grid(layout, (2, 0))\n",
        "        pp_ax = plt.subplot2grid(layout, (2, 1))\n",
        "        \n",
        "        y.plot(ax=ts_ax)\n",
        "        ts_ax.set_title('Time Series Analysis Plots')\n",
        "        smt.graphics.plot_acf(y, lags=lags, ax=acf_ax, alpha=0.05)\n",
        "        smt.graphics.plot_pacf(y, lags=lags, ax=pacf_ax, alpha=0.05)\n",
        "        sm.qqplot(y, line='s', ax=qq_ax)\n",
        "        qq_ax.set_title('QQ Plot')        \n",
        "        scs.probplot(y, sparams=(y.mean(), y.std()), plot=pp_ax)\n",
        "\n",
        "        plt.tight_layout()\n",
        "    return"
      ],
      "execution_count": 33,
      "outputs": []
    },
    {
      "cell_type": "code",
      "metadata": {
        "id": "zsaApdSa4KyO",
        "colab_type": "code",
        "colab": {
          "base_uri": "https://localhost:8080/",
          "height": 728
        },
        "outputId": "062b7046-0efb-41a1-b436-2449d2ed2620"
      },
      "source": [
        "tsplot(train_data['Close_BOM500002'].dropna())"
      ],
      "execution_count": 34,
      "outputs": [
        {
          "output_type": "display_data",
          "data": {
            "image/png": "[encoded data removed]",
            "text/plain": [
              "<Figure size 1080x720 with 5 Axes>"
            ]
          },
          "metadata": {
            "tags": [],
            "needs_background": "light"
          }
        }
      ]
    },
    {
      "cell_type": "markdown",
      "metadata": {
        "id": "jDoVfjnJ8MwL",
        "colab_type": "text"
      },
      "source": [
        "**We observe there is trend above ACF plot**\n",
        "\n",
        "Below  we remove trend by using np.diff()"
      ]
    },
    {
      "cell_type": "code",
      "metadata": {
        "id": "Quv7D6NO5ZIV",
        "colab_type": "code",
        "colab": {
          "base_uri": "https://localhost:8080/",
          "height": 1000
        },
        "outputId": "637d7ac2-6995-4cb7-e8b5-32637108aecf"
      },
      "source": [
        "#use np.diff to remove trend\n",
        "#train_data['Close_BOM500002_log']=np.log(train_data['Close_BOM500002'])\n",
        "train_data['Close_BOM500002_diff']=np.append(0,np.diff(train_data['Close_BOM500002']))\n",
        "#IndexedDataset['Close_BOM500002_logdiff']= IndexedDataset['Close_BOM500002']-IndexedDataset['Close_BOM500002'].shift() \n",
        "#IndexedDataset['Close_BOM500002_logdiff']\n",
        "tsplot(train_data['Close_BOM500002_diff'])"
      ],
      "execution_count": 35,
      "outputs": [
        {
          "output_type": "stream",
          "text": [
            "/usr/local/lib/python3.6/dist-packages/ipykernel_launcher.py:3: SettingWithCopyWarning: \n",
            "A value is trying to be set on a copy of a slice from a DataFrame.\n",
            "Try using .loc[row_indexer,col_indexer] = value instead\n",
            "\n",
            "See the caveats in the documentation: https://pandas.pydata.org/pandas-docs/stable/user_guide/indexing.html#returning-a-view-versus-a-copy\n",
            "  This is separate from the ipykernel package so we can avoid doing imports until\n"
          ],
          "name": "stderr"
        },
        {
          "output_type": "error",
          "ename": "RuntimeError",
          "evalue": "ignored",
          "traceback": [
            "\u001b[0;31m---------------------------------------------------------------------------\u001b[0m",
            "\u001b[0;31mRuntimeError\u001b[0m                              Traceback (most recent call last)",
            "\u001b[0;32m<ipython-input-35-d9382966549e>\u001b[0m in \u001b[0;36m<module>\u001b[0;34m()\u001b[0m\n\u001b[1;32m      4\u001b[0m \u001b[0;31m#IndexedDataset['Close_BOM500002_logdiff']= IndexedDataset['Close_BOM500002']-IndexedDataset['Close_BOM500002'].shift()\u001b[0m\u001b[0;34m\u001b[0m\u001b[0;34m\u001b[0m\u001b[0;34m\u001b[0m\u001b[0m\n\u001b[1;32m      5\u001b[0m \u001b[0;31m#IndexedDataset['Close_BOM500002_logdiff']\u001b[0m\u001b[0;34m\u001b[0m\u001b[0;34m\u001b[0m\u001b[0;34m\u001b[0m\u001b[0m\n\u001b[0;32m----> 6\u001b[0;31m \u001b[0mtsplot\u001b[0m\u001b[0;34m(\u001b[0m\u001b[0mtrain_data\u001b[0m\u001b[0;34m[\u001b[0m\u001b[0;34m'Close_BOM500002_diff'\u001b[0m\u001b[0;34m]\u001b[0m\u001b[0;34m)\u001b[0m\u001b[0;34m\u001b[0m\u001b[0;34m\u001b[0m\u001b[0m\n\u001b[0m",
            "\u001b[0;32m<ipython-input-33-d6550449b1b8>\u001b[0m in \u001b[0;36mtsplot\u001b[0;34m(y, lags, figsize, style)\u001b[0m\n\u001b[1;32m     15\u001b[0m         \u001b[0msmt\u001b[0m\u001b[0;34m.\u001b[0m\u001b[0mgraphics\u001b[0m\u001b[0;34m.\u001b[0m\u001b[0mplot_acf\u001b[0m\u001b[0;34m(\u001b[0m\u001b[0my\u001b[0m\u001b[0;34m,\u001b[0m \u001b[0mlags\u001b[0m\u001b[0;34m=\u001b[0m\u001b[0mlags\u001b[0m\u001b[0;34m,\u001b[0m \u001b[0max\u001b[0m\u001b[0;34m=\u001b[0m\u001b[0macf_ax\u001b[0m\u001b[0;34m,\u001b[0m \u001b[0malpha\u001b[0m\u001b[0;34m=\u001b[0m\u001b[0;36m0.05\u001b[0m\u001b[0;34m)\u001b[0m\u001b[0;34m\u001b[0m\u001b[0;34m\u001b[0m\u001b[0m\n\u001b[1;32m     16\u001b[0m         \u001b[0msmt\u001b[0m\u001b[0;34m.\u001b[0m\u001b[0mgraphics\u001b[0m\u001b[0;34m.\u001b[0m\u001b[0mplot_pacf\u001b[0m\u001b[0;34m(\u001b[0m\u001b[0my\u001b[0m\u001b[0;34m,\u001b[0m \u001b[0mlags\u001b[0m\u001b[0;34m=\u001b[0m\u001b[0mlags\u001b[0m\u001b[0;34m,\u001b[0m \u001b[0max\u001b[0m\u001b[0;34m=\u001b[0m\u001b[0mpacf_ax\u001b[0m\u001b[0;34m,\u001b[0m \u001b[0malpha\u001b[0m\u001b[0;34m=\u001b[0m\u001b[0;36m0.05\u001b[0m\u001b[0;34m)\u001b[0m\u001b[0;34m\u001b[0m\u001b[0;34m\u001b[0m\u001b[0m\n\u001b[0;32m---> 17\u001b[0;31m         \u001b[0msm\u001b[0m\u001b[0;34m.\u001b[0m\u001b[0mqqplot\u001b[0m\u001b[0;34m(\u001b[0m\u001b[0my\u001b[0m\u001b[0;34m,\u001b[0m \u001b[0mline\u001b[0m\u001b[0;34m=\u001b[0m\u001b[0;34m's'\u001b[0m\u001b[0;34m,\u001b[0m \u001b[0max\u001b[0m\u001b[0;34m=\u001b[0m\u001b[0mqq_ax\u001b[0m\u001b[0;34m)\u001b[0m\u001b[0;34m\u001b[0m\u001b[0;34m\u001b[0m\u001b[0m\n\u001b[0m\u001b[1;32m     18\u001b[0m         \u001b[0mqq_ax\u001b[0m\u001b[0;34m.\u001b[0m\u001b[0mset_title\u001b[0m\u001b[0;34m(\u001b[0m\u001b[0;34m'QQ Plot'\u001b[0m\u001b[0;34m)\u001b[0m\u001b[0;34m\u001b[0m\u001b[0;34m\u001b[0m\u001b[0m\n\u001b[1;32m     19\u001b[0m         \u001b[0mscs\u001b[0m\u001b[0;34m.\u001b[0m\u001b[0mprobplot\u001b[0m\u001b[0;34m(\u001b[0m\u001b[0my\u001b[0m\u001b[0;34m,\u001b[0m \u001b[0msparams\u001b[0m\u001b[0;34m=\u001b[0m\u001b[0;34m(\u001b[0m\u001b[0my\u001b[0m\u001b[0;34m.\u001b[0m\u001b[0mmean\u001b[0m\u001b[0;34m(\u001b[0m\u001b[0;34m)\u001b[0m\u001b[0;34m,\u001b[0m \u001b[0my\u001b[0m\u001b[0;34m.\u001b[0m\u001b[0mstd\u001b[0m\u001b[0;34m(\u001b[0m\u001b[0;34m)\u001b[0m\u001b[0;34m)\u001b[0m\u001b[0;34m,\u001b[0m \u001b[0mplot\u001b[0m\u001b[0;34m=\u001b[0m\u001b[0mpp_ax\u001b[0m\u001b[0;34m)\u001b[0m\u001b[0;34m\u001b[0m\u001b[0;34m\u001b[0m\u001b[0m\n",
            "\u001b[0;32m/usr/local/lib/python3.6/dist-packages/statsmodels/graphics/gofplots.py\u001b[0m in \u001b[0;36mqqplot\u001b[0;34m(data, dist, distargs, a, loc, scale, fit, line, ax, **plotkwargs)\u001b[0m\n\u001b[1;32m    578\u001b[0m     \"\"\"\n\u001b[1;32m    579\u001b[0m     probplot = ProbPlot(data, dist=dist, distargs=distargs,\n\u001b[0;32m--> 580\u001b[0;31m                          fit=fit, a=a, loc=loc, scale=scale)\n\u001b[0m\u001b[1;32m    581\u001b[0m     \u001b[0mfig\u001b[0m \u001b[0;34m=\u001b[0m \u001b[0mprobplot\u001b[0m\u001b[0;34m.\u001b[0m\u001b[0mqqplot\u001b[0m\u001b[0;34m(\u001b[0m\u001b[0max\u001b[0m\u001b[0;34m=\u001b[0m\u001b[0max\u001b[0m\u001b[0;34m,\u001b[0m \u001b[0mline\u001b[0m\u001b[0;34m=\u001b[0m\u001b[0mline\u001b[0m\u001b[0;34m,\u001b[0m \u001b[0;34m**\u001b[0m\u001b[0mplotkwargs\u001b[0m\u001b[0;34m)\u001b[0m\u001b[0;34m\u001b[0m\u001b[0;34m\u001b[0m\u001b[0m\n\u001b[1;32m    582\u001b[0m     \u001b[0;32mreturn\u001b[0m \u001b[0mfig\u001b[0m\u001b[0;34m\u001b[0m\u001b[0;34m\u001b[0m\u001b[0m\n",
            "\u001b[0;32m/usr/local/lib/python3.6/dist-packages/statsmodels/graphics/gofplots.py\u001b[0m in \u001b[0;36m__init__\u001b[0;34m(self, data, dist, fit, distargs, a, loc, scale)\u001b[0m\n\u001b[1;32m    174\u001b[0m             \u001b[0mdist\u001b[0m \u001b[0;34m=\u001b[0m \u001b[0mgetattr\u001b[0m\u001b[0;34m(\u001b[0m\u001b[0mstats\u001b[0m\u001b[0;34m,\u001b[0m \u001b[0mdist\u001b[0m\u001b[0;34m)\u001b[0m\u001b[0;34m\u001b[0m\u001b[0;34m\u001b[0m\u001b[0m\n\u001b[1;32m    175\u001b[0m \u001b[0;34m\u001b[0m\u001b[0m\n\u001b[0;32m--> 176\u001b[0;31m         \u001b[0mself\u001b[0m\u001b[0;34m.\u001b[0m\u001b[0mfit_params\u001b[0m \u001b[0;34m=\u001b[0m \u001b[0mdist\u001b[0m\u001b[0;34m.\u001b[0m\u001b[0mfit\u001b[0m\u001b[0;34m(\u001b[0m\u001b[0mdata\u001b[0m\u001b[0;34m)\u001b[0m\u001b[0;34m\u001b[0m\u001b[0;34m\u001b[0m\u001b[0m\n\u001b[0m\u001b[1;32m    177\u001b[0m         \u001b[0;32mif\u001b[0m \u001b[0mfit\u001b[0m\u001b[0;34m:\u001b[0m\u001b[0;34m\u001b[0m\u001b[0;34m\u001b[0m\u001b[0m\n\u001b[1;32m    178\u001b[0m             \u001b[0mself\u001b[0m\u001b[0;34m.\u001b[0m\u001b[0mloc\u001b[0m \u001b[0;34m=\u001b[0m \u001b[0mself\u001b[0m\u001b[0;34m.\u001b[0m\u001b[0mfit_params\u001b[0m\u001b[0;34m[\u001b[0m\u001b[0;34m-\u001b[0m\u001b[0;36m2\u001b[0m\u001b[0;34m]\u001b[0m\u001b[0;34m\u001b[0m\u001b[0;34m\u001b[0m\u001b[0m\n",
            "\u001b[0;32m/usr/local/lib/python3.6/dist-packages/scipy/stats/_continuous_distns.py\u001b[0m in \u001b[0;36mfit\u001b[0;34m(self, data, **kwds)\u001b[0m\n\u001b[1;32m    286\u001b[0m \u001b[0;34m\u001b[0m\u001b[0m\n\u001b[1;32m    287\u001b[0m         \u001b[0;32mif\u001b[0m \u001b[0;32mnot\u001b[0m \u001b[0mnp\u001b[0m\u001b[0;34m.\u001b[0m\u001b[0misfinite\u001b[0m\u001b[0;34m(\u001b[0m\u001b[0mdata\u001b[0m\u001b[0;34m)\u001b[0m\u001b[0;34m.\u001b[0m\u001b[0mall\u001b[0m\u001b[0;34m(\u001b[0m\u001b[0;34m)\u001b[0m\u001b[0;34m:\u001b[0m\u001b[0;34m\u001b[0m\u001b[0;34m\u001b[0m\u001b[0m\n\u001b[0;32m--> 288\u001b[0;31m             \u001b[0;32mraise\u001b[0m \u001b[0mRuntimeError\u001b[0m\u001b[0;34m(\u001b[0m\u001b[0;34m\"The data contains non-finite values.\"\u001b[0m\u001b[0;34m)\u001b[0m\u001b[0;34m\u001b[0m\u001b[0;34m\u001b[0m\u001b[0m\n\u001b[0m\u001b[1;32m    289\u001b[0m \u001b[0;34m\u001b[0m\u001b[0m\n\u001b[1;32m    290\u001b[0m         \u001b[0;32mif\u001b[0m \u001b[0mfloc\u001b[0m \u001b[0;32mis\u001b[0m \u001b[0;32mNone\u001b[0m\u001b[0;34m:\u001b[0m\u001b[0;34m\u001b[0m\u001b[0;34m\u001b[0m\u001b[0m\n",
            "\u001b[0;31mRuntimeError\u001b[0m: The data contains non-finite values."
          ]
        },
        {
          "output_type": "display_data",
          "data": {
            "image/png": "[encoded data removed]",
            "text/plain": [
              "<Figure size 1080x720 with 5 Axes>"
            ]
          },
          "metadata": {
            "tags": [],
            "needs_background": "light"
          }
        }
      ]
    },
    {
      "cell_type": "markdown",
      "metadata": {
        "id": "VEXIXSal9Zpa",
        "colab_type": "text"
      },
      "source": [
        "**We observe from above plot trend is removed , but we observe correlaion at lag 9,14 .. from ACF and PACF**\n",
        "\n"
      ]
    },
    {
      "cell_type": "code",
      "metadata": {
        "id": "ch2BgECMDkVt",
        "colab_type": "code",
        "colab": {}
      },
      "source": [
        "#Check Dickey - Fuller test\n",
        "from statsmodels.tsa.stattools import adfuller\n",
        "\n",
        "print('Results of Dickey Fuller test:')\n",
        "dftest=adfuller(train_data['Close_BOM500002'],autolag='AIC')\n",
        "\n",
        "dfoutput = pd.Series(dftest[0:4],index = ['Test Statistcs ', 'p-value', '#lags used', 'No of Observations used'] )\n",
        "for key,value in dftest[4].items():\n",
        "  dfoutput['Critical Value (%s)'%key]=value\n",
        "\n",
        "print(dfoutput)"
      ],
      "execution_count": null,
      "outputs": []
    },
    {
      "cell_type": "code",
      "metadata": {
        "id": "7PXMK4hHvWnQ",
        "colab_type": "code",
        "colab": {}
      },
      "source": [
        "#Determing rolling statistics\n",
        "window=5\n",
        "rolmean_diff = train_data['Close_BOM500002_diff'].rolling(window).mean()\n",
        "rolstd_diff = train_data['Close_BOM500002_diff'].rolling(window).std()\n",
        "\n",
        "#Plot rolling statistics:\n",
        "fig = plt.figure(figsize=(10, 6))\n",
        "orig = plt.plot(train_data['Close_BOM500002_diff'], color='blue',label='Original')\n",
        "mean = plt.plot(rolmean_diff, color='red', label='Rolling Mean')\n",
        "std = plt.plot(rolstd_diff, color='black', label = 'Rolling Std')\n",
        "plt.legend(loc='best')\n",
        "plt.title('Rolling Mean & Standard Deviation for 1lag difference');"
      ],
      "execution_count": null,
      "outputs": []
    },
    {
      "cell_type": "code",
      "metadata": {
        "id": "O3EgPUMVwk4Q",
        "colab_type": "code",
        "colab": {}
      },
      "source": [
        "#Check Dickey - Fuller test\n",
        "from statsmodels.tsa.stattools import adfuller\n",
        "\n",
        "print('Results of Dickey Fuller test:')\n",
        "dftest=adfuller(train_data['Close_BOM500002_diff'],autolag='AIC')\n",
        "\n",
        "dfoutput = pd.Series(dftest[0:4],index = ['Test Statistcs ', 'p-value', '#lags used', 'No of Observations used'] )\n",
        "for key,value in dftest[4].items():\n",
        "  dfoutput['Critical Value (%s)'%key]=value\n",
        "\n",
        "print(dfoutput)"
      ],
      "execution_count": null,
      "outputs": []
    },
    {
      "cell_type": "markdown",
      "metadata": {
        "id": "Wr9SQLUOwt-Y",
        "colab_type": "text"
      },
      "source": [
        "After differencing, the p-value is extremely small. Thus this series is very likely to be stationary.\n",
        "\n"
      ]
    },
    {
      "cell_type": "code",
      "metadata": {
        "id": "V73s5wGiFjYK",
        "colab_type": "code",
        "colab": {}
      },
      "source": [
        "#plot ACF and PACF\n",
        "from statsmodels.tsa.stattools import acf,pacf\n",
        "\n",
        "lag_acf=acf(train_data['Close_BOM500002_diff'],nlags=30)\n",
        "lag_pacf = pacf (train_data['Close_BOM500002_diff'],nlags=20, method ='ols')\n",
        "\n",
        "#plot ACF\n",
        "plt.subplot(121)\n",
        "plt.plot(lag_acf)\n",
        "plt.axhline(y=0,linestyle='--',color='gray')\n",
        "plt.axhline(y=-1.25/np.sqrt(len(train_data['Close_BOM500002_diff'])),linestyle='--',color='gray')\n",
        "plt.axhline(y=1.25/np.sqrt(len(train_data['Close_BOM500002_diff'])),linestyle='--',color='gray')\n",
        "plt.title('Autocorrelation Function')\n",
        "\n",
        "\n",
        "#plot PACF\n",
        "plt.subplot(122)\n",
        "plt.plot(lag_pacf)\n",
        "plt.axhline(y=0,linestyle='--',color='gray')\n",
        "plt.axhline(y=-1.96/np.sqrt(len(train_data['Close_BOM500002_diff'])),linestyle='--',color='gray')\n",
        "plt.axhline(y=1.96/np.sqrt(len(train_data['Close_BOM500002_diff'])),linestyle='--',color='gray')\n",
        "plt.title('Partial Autocorrelation Function')\n"
      ],
      "execution_count": null,
      "outputs": []
    },
    {
      "cell_type": "code",
      "metadata": {
        "id": "IGo5am8AxWOI",
        "colab_type": "code",
        "colab": {}
      },
      "source": [
        "#creae test difference series and train difference series \n",
        "test_series = test_data['Close_BOM500002']\n",
        "test_diff = test_series.diff()\n",
        "test_diff = test_diff.dropna(inplace = False)\n",
        "\n",
        "train_series = train_data['Close_BOM500002']\n",
        "train_diff = train_series.diff()\n",
        "train_diff = test_diff.dropna(inplace = False)"
      ],
      "execution_count": null,
      "outputs": []
    },
    {
      "cell_type": "markdown",
      "metadata": {
        "id": "U9tGEbDLJN5m",
        "colab_type": "text"
      },
      "source": [
        "**From ACF, we can say p=1 and from PACF we can say q=1**\n",
        "\n",
        "Now build ARIMA model using p=1,d=1 and q=1"
      ]
    },
    {
      "cell_type": "code",
      "metadata": {
        "id": "RUFoCE-RH2gL",
        "colab_type": "code",
        "colab": {}
      },
      "source": [
        "from statsmodels.tsa.arima_model import ARIMA\n",
        "from sklearn.metrics import mean_squared_error\n",
        "\n"
      ],
      "execution_count": null,
      "outputs": []
    },
    {
      "cell_type": "code",
      "metadata": {
        "id": "TIHIdVSbyEFK",
        "colab_type": "code",
        "colab": {}
      },
      "source": [
        "%%time \n",
        "\n",
        "history = [x for x in train_diff]\n",
        "p=1\n",
        "d=1\n",
        "q=1\n",
        "predictions = list()\n",
        "for t in range(len(test_diff)):\n",
        "\n",
        "    # START_CODE_HERE - call the ARIMA Method with history and params\n",
        "    \n",
        "    model = ARIMA(history,order=(p,d,q))  # initialize the model with history and right order of parameters\n",
        "    model_fit = model.fit(disp=-1)  # fit the model\n",
        "    # END_CODE_HERE\n",
        "\n",
        "    output = model_fit.forecast()  # use forecast on the fitted model\n",
        "    yhat = output[0][0]\n",
        "    predictions.append(yhat)\n",
        "\n",
        "    obs = test_diff[t]\n",
        "    history.append(obs)\n",
        "\n",
        "    if t % 100 == 0:\n",
        "      print('Test Series Point: {}\\tPredicted={}, Expected={}'.format(t, yhat, obs))"
      ],
      "execution_count": null,
      "outputs": []
    },
    {
      "cell_type": "code",
      "metadata": {
        "id": "5yZXHXbX6Vnj",
        "colab_type": "code",
        "colab": {}
      },
      "source": [
        "#reverse the foreasted values\n",
        "reverse_test_diff = np.r_[test_series.iloc[0], test_diff].cumsum()\n",
        "reverse_predictions = np.r_[test_series.iloc[0], predictions].cumsum()\n",
        "reverse_test_diff.shape, reverse_predictions.shape"
      ],
      "execution_count": null,
      "outputs": []
    },
    {
      "cell_type": "code",
      "metadata": {
        "id": "zj4ygC-VytNQ",
        "colab_type": "code",
        "colab": {}
      },
      "source": [
        "error = mean_squared_error(reverse_test_diff, reverse_predictions)\n",
        "print('Testing Mean Squared Error: %.3f' % error)"
      ],
      "execution_count": null,
      "outputs": []
    },
    {
      "cell_type": "code",
      "metadata": {
        "id": "DQl9-KUOiy0v",
        "colab_type": "code",
        "colab": {}
      },
      "source": [
        "def _get_best_model(TS):\n",
        "    best_aic = np.inf \n",
        "    best_order = None\n",
        "    best_mdl = None\n",
        "\n",
        "    pq_rng = range(5) # [0,1,2,3,4]\n",
        "    d_rng = range(2) # [0,1]\n",
        "    for i in pq_rng:\n",
        "        for d in d_rng:\n",
        "            for j in pq_rng:\n",
        "                try:\n",
        "                    tmp_mdl = smt.ARIMA(TS, order=(i,d,j)).fit(\n",
        "                        method='mle', trend='nc'\n",
        "                    )\n",
        "                    tmp_aic = tmp_mdl.aic\n",
        "                    if tmp_aic < best_aic:\n",
        "                        best_aic = tmp_aic\n",
        "                        best_order = (i, d, j)\n",
        "                        best_mdl = tmp_mdl\n",
        "                except: continue\n",
        "    print('aic: {:6.5f} | order: {}'.format(best_aic, best_order))                    \n",
        "    return best_aic, best_order, best_mdl"
      ],
      "execution_count": null,
      "outputs": []
    },
    {
      "cell_type": "code",
      "metadata": {
        "id": "mp_McFrqi2TE",
        "colab_type": "code",
        "colab": {}
      },
      "source": [
        "res_tup = _get_best_model(train_diff)"
      ],
      "execution_count": null,
      "outputs": []
    },
    {
      "cell_type": "code",
      "metadata": {
        "id": "j6qa8X-bjzLq",
        "colab_type": "code",
        "colab": {}
      },
      "source": [
        "#print best model order\n",
        "order=res_tup[1]\n",
        "print(order)"
      ],
      "execution_count": null,
      "outputs": []
    },
    {
      "cell_type": "code",
      "metadata": {
        "colab_type": "code",
        "id": "L6DuPZjd2kq4",
        "colab": {}
      },
      "source": [
        "def build_model(ts_train,ts_test,order):\n",
        "\n",
        "  %%time \n",
        "\n",
        "  history = [x for x in ts_train]\n",
        "\n",
        "  predictions = list()\n",
        "  for t in range(len(ts_test)):\n",
        "\n",
        "      # START_CODE_HERE - call the ARIMA Method with history and params\n",
        "      \n",
        "      model = ARIMA(history,order=order)  # initialize the model with history and right order of parameters\n",
        "      model_fit = model.fit(disp=-1)  # fit the model\n",
        "      # END_CODE_HERE\n",
        "\n",
        "      output = model_fit.forecast()  # use forecast on the fitted model\n",
        "      yhat = output[0][0]\n",
        "      predictions.append(yhat)\n",
        "\n",
        "      obs = ts_test[t]\n",
        "      history.append(obs)\n",
        "\n",
        "      if t % 100 == 0:\n",
        "        print('Test Series Point: {}\\tPredicted={}, Expected={}'.format(t, yhat, obs))\n",
        "  return predictions,model_fit"
      ],
      "execution_count": null,
      "outputs": []
    },
    {
      "cell_type": "code",
      "metadata": {
        "id": "vcvqnB6q3r68",
        "colab_type": "code",
        "colab": {}
      },
      "source": [
        "predictions,model_fit= build_model(train_diff,test_diff,order)"
      ],
      "execution_count": null,
      "outputs": []
    },
    {
      "cell_type": "code",
      "metadata": {
        "id": "GxZwy5ZE29I4",
        "colab_type": "code",
        "colab": {}
      },
      "source": [
        "#reverse the foreasted values\n",
        "reverse_test_diff = np.r_[test_series.iloc[0], test_diff].cumsum()\n",
        "reverse_predictions = np.r_[test_series.iloc[0], predictions].cumsum()\n",
        "reverse_test_diff.shape, reverse_predictions.shape"
      ],
      "execution_count": null,
      "outputs": []
    },
    {
      "cell_type": "code",
      "metadata": {
        "id": "QabGwfL-3FZy",
        "colab_type": "code",
        "colab": {}
      },
      "source": [
        "error = mean_squared_error(reverse_test_diff, reverse_predictions)\n",
        "print('Testing Mean Squared Error: %.3f' % error)"
      ],
      "execution_count": null,
      "outputs": []
    },
    {
      "cell_type": "markdown",
      "metadata": {
        "id": "hb1XVnRd5A5j",
        "colab_type": "text"
      },
      "source": [
        "Visualize the forecast results\n"
      ]
    },
    {
      "cell_type": "code",
      "metadata": {
        "id": "FM2cGUec48-K",
        "colab_type": "code",
        "colab": {}
      },
      "source": [
        "reverse_test_diff_series = pd.Series(reverse_test_diff)\n",
        "reverse_test_diff_series.index = test_series.index\n",
        "\n",
        "reverse_predictions_series = pd.Series(reverse_test_diff)\n",
        "reverse_predictions_series.index = test_series.index"
      ],
      "execution_count": null,
      "outputs": []
    },
    {
      "cell_type": "code",
      "metadata": {
        "id": "yssSOD-15IOi",
        "colab_type": "code",
        "colab": {}
      },
      "source": [
        "plt.figure(figsize=(12,7))\n",
        "plt.title('BOM500002 Prices')\n",
        "plt.xlabel('Dates')\n",
        "plt.ylabel('Prices')\n",
        "plt.plot(train_series, color='blue', label='Training Prices')\n",
        "plt.plot(reverse_test_diff_series, color='green', marker='.', label='Testing Prices - Reverse Diff Transform')\n",
        "plt.plot(reverse_test_diff_series, color='red', linestyle='--', label='Forecasted Prices - Reverse Diff Transform')\n",
        "plt.legend();"
      ],
      "execution_count": null,
      "outputs": []
    },
    {
      "cell_type": "markdown",
      "metadata": {
        "id": "JLpWBejr5m68",
        "colab_type": "text"
      },
      "source": [
        "Visualize only test and forecast prices\n"
      ]
    },
    {
      "cell_type": "code",
      "metadata": {
        "id": "4kYSb6NM5b1z",
        "colab_type": "code",
        "colab": {}
      },
      "source": [
        "plt.figure(figsize=(12,7))\n",
        "plt.title('BOM500002 Prices')\n",
        "plt.xlabel('Dates')\n",
        "plt.ylabel('Prices')\n",
        "plt.plot(test_series, color='blue', label='Testing Prices')\n",
        "#plt.plot(reverse_test_diff_series, color='green', marker='.', label='Testing Prices - Reverse Diff Transform')\n",
        "plt.plot(reverse_test_diff_series, color='red', linestyle='--', label='Forecasted Prices - Reverse Diff Transform')\n",
        "plt.legend();"
      ],
      "execution_count": null,
      "outputs": []
    },
    {
      "cell_type": "markdown",
      "metadata": {
        "id": "vCdbUcCKaA_N",
        "colab_type": "text"
      },
      "source": [
        "**Multivariate Model**"
      ]
    },
    {
      "cell_type": "code",
      "metadata": {
        "id": "-d44yUtV8TDS",
        "colab_type": "code",
        "colab": {}
      },
      "source": [
        "#Create a list containing Open and Close columns of Stocks\n",
        "multi_features=[ i for i in dataset.columns.to_list() if 'Close_BOM' in i]\n",
        "print(multi_features)"
      ],
      "execution_count": null,
      "outputs": []
    },
    {
      "cell_type": "code",
      "metadata": {
        "id": "liCvWSPdaIcR",
        "colab_type": "code",
        "colab": {}
      },
      "source": [
        "#add Conversion_rate and Dowjones  close columns to features list\n",
        "multi_features.extend(\n",
        "           ['Date','Conversion_Rate','Close'])\n",
        "print(multi_features)\n"
      ],
      "execution_count": null,
      "outputs": []
    },
    {
      "cell_type": "code",
      "metadata": {
        "id": "4Z_sakvNAViv",
        "colab_type": "code",
        "colab": {}
      },
      "source": [
        "#Create subset data with the features listed above\n",
        "multi_subset_df=dataset[multi_features]"
      ],
      "execution_count": null,
      "outputs": []
    },
    {
      "cell_type": "code",
      "metadata": {
        "id": "5bpy0y6GAqUq",
        "colab_type": "code",
        "colab": {}
      },
      "source": [
        "#Rename DJI Open and CLose\n",
        "multi_subset_df=multi_subset_df.rename(columns={ \"Close\": \"DJIClose\"})"
      ],
      "execution_count": null,
      "outputs": []
    },
    {
      "cell_type": "code",
      "metadata": {
        "id": "LaBlogrMA301",
        "colab_type": "code",
        "colab": {}
      },
      "source": [
        "#parse string to datetime\n",
        "multi_subset_df['Date']=pd.to_datetime(multi_subset_df['Date'],infer_datetime_format=True)"
      ],
      "execution_count": null,
      "outputs": []
    },
    {
      "cell_type": "code",
      "metadata": {
        "id": "fZkc9C-rBmIe",
        "colab_type": "code",
        "colab": {}
      },
      "source": [
        "#Set Date as index\n",
        "multi_subset_df=multi_subset_df.set_index(['Date'])"
      ],
      "execution_count": null,
      "outputs": []
    },
    {
      "cell_type": "code",
      "metadata": {
        "id": "oXvSJK_1BxnF",
        "colab_type": "code",
        "colab": {}
      },
      "source": [
        "multi_subset_df.info()"
      ],
      "execution_count": null,
      "outputs": []
    },
    {
      "cell_type": "code",
      "metadata": {
        "id": "-CsAHZLpCw_X",
        "colab_type": "code",
        "colab": {}
      },
      "source": [
        "multi_subset_df.head()"
      ],
      "execution_count": null,
      "outputs": []
    },
    {
      "cell_type": "code",
      "metadata": {
        "id": "YHkV93bHIFcn",
        "colab_type": "code",
        "colab": {}
      },
      "source": [
        "import seaborn as sn\n",
        "corrMatrix=multi_subset_df.corr()\n",
        "sn.heatmap(corrMatrix, annot=True)\n",
        "plt.show()\n"
      ],
      "execution_count": null,
      "outputs": []
    },
    {
      "cell_type": "code",
      "metadata": {
        "id": "8lmoYv13JIjb",
        "colab_type": "code",
        "colab": {}
      },
      "source": [
        "multi_subset_df.dropna(inplace=True)"
      ],
      "execution_count": null,
      "outputs": []
    },
    {
      "cell_type": "code",
      "metadata": {
        "id": "-fn9sZoZIEQF",
        "colab_type": "code",
        "colab": {}
      },
      "source": [
        "#Exclude BOM500002 close price , which we want to predict\n",
        "ARIMA_Features=[i for i in  multi_subset_df.columns.to_list() if i !='Close_BOM500002']\n",
        "print(ARIMA_Features)"
      ],
      "execution_count": null,
      "outputs": []
    },
    {
      "cell_type": "code",
      "metadata": {
        "id": "Mh3FzPRZHwct",
        "colab_type": "code",
        "colab": {}
      },
      "source": [
        "multi_set_model=ARIMA(endog=multi_subset_df['Close_BOM500002'],exog=multi_subset_df[ARIMA_Features],order=(0,1,1))"
      ],
      "execution_count": null,
      "outputs": []
    },
    {
      "cell_type": "code",
      "metadata": {
        "id": "yYrp_14bJSRK",
        "colab_type": "code",
        "colab": {}
      },
      "source": [
        "multi_set_result=multi_set_model.fit(disp=-1)"
      ],
      "execution_count": null,
      "outputs": []
    },
    {
      "cell_type": "code",
      "metadata": {
        "colab_type": "code",
        "id": "3ggZlm5DLtOd",
        "colab": {}
      },
      "source": [
        "#Split df to train and test data\n",
        "multi_train_data, multi_test_data = multi_subset_df.iloc[0:int(len(multi_subset_df)*0.8), :], multi_subset_df.iloc[int(len(multi_subset_df)*0.8):, :]"
      ],
      "execution_count": null,
      "outputs": []
    },
    {
      "cell_type": "code",
      "metadata": {
        "id": "Oa5-bTP-N45F",
        "colab_type": "code",
        "colab": {}
      },
      "source": [
        "multi_train_data.info()"
      ],
      "execution_count": null,
      "outputs": []
    },
    {
      "cell_type": "code",
      "metadata": {
        "id": "W75c7UD-aITT",
        "colab_type": "code",
        "colab": {}
      },
      "source": [
        "multi_train_data.head()"
      ],
      "execution_count": null,
      "outputs": []
    },
    {
      "cell_type": "code",
      "metadata": {
        "id": "j77TzKXLZoYe",
        "colab_type": "code",
        "colab": {}
      },
      "source": [
        "#Remove trend using diff()\n",
        "multi_train_data_diff=multi_train_data.diff()\n",
        "multi_train_data_diff.head()"
      ],
      "execution_count": null,
      "outputs": []
    },
    {
      "cell_type": "code",
      "metadata": {
        "id": "Q2XKNX10aREn",
        "colab_type": "code",
        "colab": {}
      },
      "source": [
        "#Remove trend in test data as well using diff()\n",
        "multi_test_data_diff=multi_test_data.diff()\n",
        "multi_test_data_diff.head()"
      ],
      "execution_count": null,
      "outputs": []
    },
    {
      "cell_type": "code",
      "metadata": {
        "id": "r8y56I6EaZaI",
        "colab_type": "code",
        "colab": {}
      },
      "source": [
        "#Drop NaN rows\n",
        "multi_train_data_diff=multi_train_data_diff.dropna(inplace = False)\n",
        "multi_test_data_diff=multi_test_data_diff.dropna(inplace = False)"
      ],
      "execution_count": null,
      "outputs": []
    },
    {
      "cell_type": "code",
      "metadata": {
        "id": "ZqMCxYX9MORf",
        "colab_type": "code",
        "colab": {}
      },
      "source": [
        "import sys\n",
        "def _get_best_multi_model(TS,Y_column,X_column):\n",
        "    best_aic = np.inf \n",
        "    best_order = None\n",
        "    best_mdl = None\n",
        "\n",
        "    pq_rng = range(2) # [0,1,2,3,4]\n",
        "    d_rng = range(2) # [0,1]\n",
        "    for i in pq_rng:\n",
        "        for d in d_rng:\n",
        "            for j in pq_rng:\n",
        "                try:\n",
        "                    tmp_mdl = smt.ARIMA(endog=TS[Y_column],exog=TS[X_column], order=(i,d,j)).fit(\n",
        "                        method='mle', trend='c',disp=-1,start_ar_lags=max(i,j)\n",
        "                    )\n",
        "                    tmp_aic = tmp_mdl.aic\n",
        "                    if tmp_aic < best_aic:\n",
        "                        best_aic = tmp_aic\n",
        "                        best_order = (i, d, j)\n",
        "                        best_mdl = tmp_mdl\n",
        "                except: print(\"Unexpected error:\", sys.exc_info()) \n",
        "                continue\n",
        "    print('aic: {:6.5f} | order: {}'.format(best_aic, best_order))                    \n",
        "    return best_aic, best_order, best_mdl"
      ],
      "execution_count": null,
      "outputs": []
    },
    {
      "cell_type": "code",
      "metadata": {
        "id": "GNfsaiwjNG5e",
        "colab_type": "code",
        "colab": {}
      },
      "source": [
        "Y='Close_BOM500002'\n",
        "res_multi_tup = _get_best_multi_model(multi_train_data_diff,Y_column=Y,X_column=ARIMA_Features)"
      ],
      "execution_count": null,
      "outputs": []
    },
    {
      "cell_type": "code",
      "metadata": {
        "id": "liT26NkfQeA3",
        "colab_type": "code",
        "colab": {}
      },
      "source": [
        "#print best model order\n",
        "multi_order=res_multi_tup[1]\n",
        "print(multi_order)"
      ],
      "execution_count": null,
      "outputs": []
    },
    {
      "cell_type": "markdown",
      "metadata": {
        "id": "-goQeg0CsXYl",
        "colab_type": "text"
      },
      "source": [
        "**Using ARIMA model, we got COnvergence Warning**\n",
        "\n",
        "Below we will try with SARIMAX"
      ]
    },
    {
      "cell_type": "code",
      "metadata": {
        "id": "vgJ2YIxqsWEq",
        "colab_type": "code",
        "colab": {}
      },
      "source": [
        "import sys\n",
        "def _get_best_multi_model(TS,Y_column,X_column):\n",
        "    best_aic = np.inf \n",
        "    best_order = None\n",
        "    best_mdl = None\n",
        "\n",
        "    pq_rng = range(5) # [0,1,2,3,4]\n",
        "    d_rng = range(2) # [0,1]\n",
        "    for i in pq_rng:\n",
        "        for d in d_rng:\n",
        "            for j in pq_rng:\n",
        "                try:\n",
        "                    tmp_mdl = smt.SARIMAX(endog=TS[Y_column],exog=TS[X_column], order=(i,d,j)).fit(\n",
        "                        trend='c',disp=False\n",
        "                    )\n",
        "                    tmp_aic = tmp_mdl.aic\n",
        "                    if tmp_aic < best_aic:\n",
        "                        best_aic = tmp_aic\n",
        "                        best_order = (i, d, j)\n",
        "                        best_mdl = tmp_mdl\n",
        "                except: print(\"Unexpected error:\", sys.exc_info()) \n",
        "                continue\n",
        "    print('aic: {:6.5f} | order: {}'.format(best_aic, best_order))                    \n",
        "    return best_aic, best_order, best_mdl"
      ],
      "execution_count": null,
      "outputs": []
    },
    {
      "cell_type": "code",
      "metadata": {
        "id": "SQidZzFnuIcb",
        "colab_type": "code",
        "colab": {}
      },
      "source": [
        "Y='Close_BOM500002'\n",
        "res_multi_tup = _get_best_multi_model(multi_train_data_diff,Y_column=Y,X_column=ARIMA_Features)"
      ],
      "execution_count": null,
      "outputs": []
    },
    {
      "cell_type": "code",
      "metadata": {
        "id": "-zQ7ghbnuw8o",
        "colab_type": "code",
        "colab": {}
      },
      "source": [
        "#print best model order\n",
        "multi_order=res_multi_tup[1]\n",
        "print(multi_order)\n",
        "print('aic:',res_multi_tup[0])"
      ],
      "execution_count": null,
      "outputs": []
    },
    {
      "cell_type": "code",
      "metadata": {
        "id": "WFY6TPse6T6p",
        "colab_type": "code",
        "colab": {
          "base_uri": "https://localhost:8080/",
          "height": 285
        },
        "outputId": "bdc2a672-522c-4fad-c0ee-07766b53a7b1"
      },
      "source": [
        " tmp_mdl = smt.SARIMAX(endog=multi_train_data_diff[Y],exog=multi_train_data_diff[ARIMA_Features], order=(1,1,1)).fit(\n",
        "                        trend='c',disp=False\n",
        "                    )\n",
        " tmp_mdl.model.data.orig_endog.index"
      ],
      "execution_count": null,
      "outputs": [
        {
          "output_type": "stream",
          "text": [
            "/usr/local/lib/python3.6/dist-packages/statsmodels/tsa/base/tsa_model.py:218: ValueWarning: A date index has been provided, but it has no associated frequency information and so will be ignored when e.g. forecasting.\n",
            "  ' ignored when e.g. forecasting.', ValueWarning)\n",
            "/usr/local/lib/python3.6/dist-packages/statsmodels/tsa/base/tsa_model.py:218: ValueWarning: A date index has been provided, but it has no associated frequency information and so will be ignored when e.g. forecasting.\n",
            "  ' ignored when e.g. forecasting.', ValueWarning)\n",
            "/usr/local/lib/python3.6/dist-packages/statsmodels/base/model.py:568: ConvergenceWarning: Maximum Likelihood optimization failed to converge. Check mle_retvals\n",
            "  \"Check mle_retvals\", ConvergenceWarning)\n"
          ],
          "name": "stderr"
        },
        {
          "output_type": "execute_result",
          "data": {
            "text/plain": [
              "DatetimeIndex(['2017-01-04', '2017-01-05', '2017-01-06', '2017-01-09',\n",
              "               '2017-01-10', '2017-01-11', '2017-01-12', '2017-01-13',\n",
              "               '2017-01-16', '2017-01-17',\n",
              "               ...\n",
              "               '2019-10-03', '2019-10-04', '2019-10-07', '2019-10-09',\n",
              "               '2019-10-10', '2019-10-11', '2019-10-14', '2019-10-15',\n",
              "               '2019-10-16', '2019-10-17'],\n",
              "              dtype='datetime64[ns]', name='Date', length=687, freq=None)"
            ]
          },
          "metadata": {
            "tags": []
          },
          "execution_count": 208
        }
      ]
    },
    {
      "cell_type": "code",
      "metadata": {
        "id": "_MfIrbifnJiF",
        "colab_type": "code",
        "colab": {
          "base_uri": "https://localhost:8080/",
          "height": 72
        },
        "outputId": "895f86b3-31d9-45bd-ae0f-7ebc2348a24b"
      },
      "source": [
        "endog=multi_test_data_diff.iloc[0:0+1][Y]\n",
        "start = tmp_mdl.nobs\n",
        "end = tmp_mdl.nobs + len(endog) - 1\n",
        "_, _, _, append_ix = tmp_mdl.model._get_prediction_index(start, end)\n"
      ],
      "execution_count": null,
      "outputs": [
        {
          "output_type": "stream",
          "text": [
            "/usr/local/lib/python3.6/dist-packages/statsmodels/tsa/base/tsa_model.py:583: ValueWarning: No supported index is available. Prediction results will be given with an integer index beginning at `start`.\n",
            "  ValueWarning)\n"
          ],
          "name": "stderr"
        }
      ]
    },
    {
      "cell_type": "code",
      "metadata": {
        "id": "GtzppQqZnnIN",
        "colab_type": "code",
        "colab": {
          "base_uri": "https://localhost:8080/",
          "height": 34
        },
        "outputId": "4738efea-b6c3-4457-966d-f48f4ab4cce3"
      },
      "source": [
        "print(append_ix)"
      ],
      "execution_count": null,
      "outputs": [
        {
          "output_type": "stream",
          "text": [
            "RangeIndex(start=687, stop=688, step=1)\n"
          ],
          "name": "stdout"
        }
      ]
    },
    {
      "cell_type": "code",
      "metadata": {
        "id": "7fGq58GGzRre",
        "colab_type": "code",
        "colab": {
          "base_uri": "https://localhost:8080/",
          "height": 34
        },
        "outputId": "0448a4c1-d269-4c69-8d76-0c387dfd5387"
      },
      "source": [
        "import datetime as dt\n",
        "holidays = [dt.datetime(2011, 1, 5), dt.datetime(2011, 3, 14)]\n",
        "print(holidays)"
      ],
      "execution_count": null,
      "outputs": [
        {
          "output_type": "stream",
          "text": [
            "[datetime.datetime(2011, 1, 5, 0, 0), datetime.datetime(2011, 3, 14, 0, 0)]\n"
          ],
          "name": "stdout"
        }
      ]
    },
    {
      "cell_type": "code",
      "metadata": {
        "id": "pOuQQpdCusuN",
        "colab_type": "code",
        "colab": {
          "base_uri": "https://localhost:8080/",
          "height": 34
        },
        "outputId": "95f3a0e0-a7a5-4449-c88c-f1eba9c6e6a6"
      },
      "source": [
        "print(getattr(pd.DataFrame(multi_test_data_diff.iloc[0:0+1][Y]).set_index(pd.Index([688])).index, 'freq', None))"
      ],
      "execution_count": null,
      "outputs": [
        {
          "output_type": "stream",
          "text": [
            "None\n"
          ],
          "name": "stdout"
        }
      ]
    },
    {
      "cell_type": "code",
      "metadata": {
        "id": "1g86W4KJYJut",
        "colab_type": "code",
        "colab": {
          "base_uri": "https://localhost:8080/",
          "height": 70
        },
        "outputId": "9bb7e8a9-cad1-486d-c06e-692ac5524029"
      },
      "source": [
        "print(type(multi_train_data_diff.iloc[0:0+1][ARIMA_Features]))\n",
        "print(pd.DataFrame(multi_test_data_diff.iloc[0:0+1][Y]).set_index(pd.Index([688])))"
      ],
      "execution_count": null,
      "outputs": [
        {
          "output_type": "stream",
          "text": [
            "<class 'pandas.core.frame.DataFrame'>\n",
            "     Close_BOM500002\n",
            "688            -12.6\n"
          ],
          "name": "stdout"
        }
      ]
    },
    {
      "cell_type": "code",
      "metadata": {
        "id": "izOGpfPnQrtd",
        "colab_type": "code",
        "colab": {}
      },
      "source": [
        "def build_multi_model(ts_train,ts_test,order,X_Column,Y_Column,Y_POS):\n",
        "\n",
        "  %%time \n",
        "\n",
        "  history =  ts_train\n",
        "  #print(Y)\n",
        "  train_obs=ts_train.shape[0]\n",
        "  print('training observations:',train_obs)\n",
        "  updated_endog_index=train_obs\n",
        "  predictions = list()\n",
        "  no_of_rows =ts_test.shape[0]\n",
        "  \n",
        "  # START_CODE_HERE - call the ARIMA Method with history and params      \n",
        "  model = smt.SARIMAX(endog=history[Y_Column],exog=history[X_Column],order=order)  # initialize the model with history and right order of parameters\n",
        "  model_fit = model.fit(disp=-1)  # fit the model\n",
        "  output = model_fit.forecast(exog=history.iloc[-1][X_Column],steps=1)  # use forecast on the fitted model\n",
        "  yhat = output.iloc[-1]        \n",
        "  for t in range(0,no_of_rows):\n",
        "      # Update the results by appending the next observation\n",
        "      updated_endog_index +=1\n",
        "      updated_endog = pd.DataFrame(ts_test.iloc[t:t+1][Y_Column]).set_index(pd.Index([updated_endog_index]))\n",
        "      updated_exog =pd.DataFrame(ts_test.iloc[t:t+1][X_Column]).set_index(pd.Index([updated_endog_index]))\n",
        "      model_fit=model_fit.append(endog=updated_endog,refit=False )\n",
        "      output = model_fit.forecast(exog=updated_exog,steps=1)  # use forecast on the fitted model  \n",
        "      #print('out:',output.iloc[-1])\n",
        "      yhat = output.iloc[-1]\n",
        "      predictions.append(yhat)\n",
        "      obs = ts_test.iloc[t]\n",
        "      #history.append(obs)\n",
        "\n",
        "      if t % 100 == 0:\n",
        "        print('Test Series Point: {}\\tPredicted={}, Expected={}'.format(t, yhat, obs))\n",
        "  return predictions,model_fit"
      ],
      "execution_count": null,
      "outputs": []
    },
    {
      "cell_type": "code",
      "metadata": {
        "id": "Uy5ITKFiQ25j",
        "colab_type": "code",
        "colab": {
          "base_uri": "https://localhost:8080/",
          "height": 887
        },
        "outputId": "3ebc61e4-e884-45a4-d8e2-84b43ac37953"
      },
      "source": [
        "multi_predictions,multi_model_fit= build_multi_model(ts_train=multi_train_data_diff\n",
        "                                                     ,ts_test=multi_test_data_diff\n",
        "                                                     ,order=(1,1,0)\n",
        "                                                     ,X_Column=ARIMA_Features\n",
        "                                                     ,Y_Column=Y\n",
        "                                                     ,Y_POS=0\n",
        "                                                     )\n",
        "    #multi_train_data,multi_test_data,multi_order,X_Column=ARIMA_Features,Y,0)"
      ],
      "execution_count": null,
      "outputs": [
        {
          "output_type": "stream",
          "text": [
            "CPU times: user 2 µs, sys: 0 ns, total: 2 µs\n",
            "Wall time: 5.96 µs\n",
            "training observations: 687\n"
          ],
          "name": "stdout"
        },
        {
          "output_type": "stream",
          "text": [
            "/usr/local/lib/python3.6/dist-packages/statsmodels/tsa/base/tsa_model.py:218: ValueWarning: A date index has been provided, but it has no associated frequency information and so will be ignored when e.g. forecasting.\n",
            "  ' ignored when e.g. forecasting.', ValueWarning)\n",
            "/usr/local/lib/python3.6/dist-packages/statsmodels/tsa/base/tsa_model.py:218: ValueWarning: A date index has been provided, but it has no associated frequency information and so will be ignored when e.g. forecasting.\n",
            "  ' ignored when e.g. forecasting.', ValueWarning)\n",
            "/usr/local/lib/python3.6/dist-packages/statsmodels/base/model.py:568: ConvergenceWarning: Maximum Likelihood optimization failed to converge. Check mle_retvals\n",
            "  \"Check mle_retvals\", ConvergenceWarning)\n",
            "/usr/local/lib/python3.6/dist-packages/statsmodels/tsa/base/tsa_model.py:583: ValueWarning: No supported index is available. Prediction results will be given with an integer index beginning at `start`.\n",
            "  ValueWarning)\n",
            "/usr/local/lib/python3.6/dist-packages/statsmodels/tsa/base/tsa_model.py:583: ValueWarning: No supported index is available. Prediction results will be given with an integer index beginning at `start`.\n",
            "  ValueWarning)\n"
          ],
          "name": "stderr"
        },
        {
          "output_type": "error",
          "ename": "ValueError",
          "evalue": "ignored",
          "traceback": [
            "\u001b[0;31m---------------------------------------------------------------------------\u001b[0m",
            "\u001b[0;31mValueError\u001b[0m                                Traceback (most recent call last)",
            "\u001b[0;32m<ipython-input-240-29b1def1ea97>\u001b[0m in \u001b[0;36m<module>\u001b[0;34m()\u001b[0m\n\u001b[1;32m      4\u001b[0m                                                      \u001b[0;34m,\u001b[0m\u001b[0mX_Column\u001b[0m\u001b[0;34m=\u001b[0m\u001b[0mARIMA_Features\u001b[0m\u001b[0;34m\u001b[0m\u001b[0;34m\u001b[0m\u001b[0m\n\u001b[1;32m      5\u001b[0m                                                      \u001b[0;34m,\u001b[0m\u001b[0mY_Column\u001b[0m\u001b[0;34m=\u001b[0m\u001b[0mY\u001b[0m\u001b[0;34m\u001b[0m\u001b[0;34m\u001b[0m\u001b[0m\n\u001b[0;32m----> 6\u001b[0;31m                                                      \u001b[0;34m,\u001b[0m\u001b[0mY_POS\u001b[0m\u001b[0;34m=\u001b[0m\u001b[0;36m0\u001b[0m\u001b[0;34m\u001b[0m\u001b[0;34m\u001b[0m\u001b[0m\n\u001b[0m\u001b[1;32m      7\u001b[0m                                                      )\n\u001b[1;32m      8\u001b[0m     \u001b[0;31m#multi_train_data,multi_test_data,multi_order,X_Column=ARIMA_Features,Y,0)\u001b[0m\u001b[0;34m\u001b[0m\u001b[0;34m\u001b[0m\u001b[0;34m\u001b[0m\u001b[0m\n",
            "\u001b[0;32m<ipython-input-239-9aeebd273ed6>\u001b[0m in \u001b[0;36mbuild_multi_model\u001b[0;34m(ts_train, ts_test, order, X_Column, Y_Column, Y_POS)\u001b[0m\n\u001b[1;32m     21\u001b[0m       \u001b[0mupdated_endog\u001b[0m \u001b[0;34m=\u001b[0m \u001b[0mpd\u001b[0m\u001b[0;34m.\u001b[0m\u001b[0mDataFrame\u001b[0m\u001b[0;34m(\u001b[0m\u001b[0mts_test\u001b[0m\u001b[0;34m.\u001b[0m\u001b[0miloc\u001b[0m\u001b[0;34m[\u001b[0m\u001b[0mt\u001b[0m\u001b[0;34m:\u001b[0m\u001b[0mt\u001b[0m\u001b[0;34m+\u001b[0m\u001b[0;36m1\u001b[0m\u001b[0;34m]\u001b[0m\u001b[0;34m[\u001b[0m\u001b[0mY_Column\u001b[0m\u001b[0;34m]\u001b[0m\u001b[0;34m)\u001b[0m\u001b[0;34m.\u001b[0m\u001b[0mset_index\u001b[0m\u001b[0;34m(\u001b[0m\u001b[0mpd\u001b[0m\u001b[0;34m.\u001b[0m\u001b[0mIndex\u001b[0m\u001b[0;34m(\u001b[0m\u001b[0;34m[\u001b[0m\u001b[0mupdated_endog_index\u001b[0m\u001b[0;34m]\u001b[0m\u001b[0;34m)\u001b[0m\u001b[0;34m)\u001b[0m\u001b[0;34m\u001b[0m\u001b[0;34m\u001b[0m\u001b[0m\n\u001b[1;32m     22\u001b[0m       \u001b[0mupdated_exog\u001b[0m \u001b[0;34m=\u001b[0m\u001b[0mpd\u001b[0m\u001b[0;34m.\u001b[0m\u001b[0mDataFrame\u001b[0m\u001b[0;34m(\u001b[0m\u001b[0mts_test\u001b[0m\u001b[0;34m.\u001b[0m\u001b[0miloc\u001b[0m\u001b[0;34m[\u001b[0m\u001b[0mt\u001b[0m\u001b[0;34m:\u001b[0m\u001b[0mt\u001b[0m\u001b[0;34m+\u001b[0m\u001b[0;36m1\u001b[0m\u001b[0;34m]\u001b[0m\u001b[0;34m[\u001b[0m\u001b[0mX_Column\u001b[0m\u001b[0;34m]\u001b[0m\u001b[0;34m)\u001b[0m\u001b[0;34m.\u001b[0m\u001b[0mset_index\u001b[0m\u001b[0;34m(\u001b[0m\u001b[0mpd\u001b[0m\u001b[0;34m.\u001b[0m\u001b[0mIndex\u001b[0m\u001b[0;34m(\u001b[0m\u001b[0;34m[\u001b[0m\u001b[0mupdated_endog_index\u001b[0m\u001b[0;34m]\u001b[0m\u001b[0;34m)\u001b[0m\u001b[0;34m)\u001b[0m\u001b[0;34m\u001b[0m\u001b[0;34m\u001b[0m\u001b[0m\n\u001b[0;32m---> 23\u001b[0;31m       \u001b[0mmodel_fit\u001b[0m\u001b[0;34m=\u001b[0m\u001b[0mmodel_fit\u001b[0m\u001b[0;34m.\u001b[0m\u001b[0mappend\u001b[0m\u001b[0;34m(\u001b[0m\u001b[0mendog\u001b[0m\u001b[0;34m=\u001b[0m\u001b[0mupdated_endog\u001b[0m\u001b[0;34m,\u001b[0m\u001b[0mrefit\u001b[0m\u001b[0;34m=\u001b[0m\u001b[0;32mFalse\u001b[0m \u001b[0;34m)\u001b[0m\u001b[0;34m\u001b[0m\u001b[0;34m\u001b[0m\u001b[0m\n\u001b[0m\u001b[1;32m     24\u001b[0m       \u001b[0moutput\u001b[0m \u001b[0;34m=\u001b[0m \u001b[0mmodel_fit\u001b[0m\u001b[0;34m.\u001b[0m\u001b[0mforecast\u001b[0m\u001b[0;34m(\u001b[0m\u001b[0mexog\u001b[0m\u001b[0;34m=\u001b[0m\u001b[0mupdated_exog\u001b[0m\u001b[0;34m,\u001b[0m\u001b[0msteps\u001b[0m\u001b[0;34m=\u001b[0m\u001b[0;36m1\u001b[0m\u001b[0;34m)\u001b[0m  \u001b[0;31m# use forecast on the fitted model\u001b[0m\u001b[0;34m\u001b[0m\u001b[0;34m\u001b[0m\u001b[0m\n\u001b[1;32m     25\u001b[0m       \u001b[0;31m#print('out:',output.iloc[-1])\u001b[0m\u001b[0;34m\u001b[0m\u001b[0;34m\u001b[0m\u001b[0;34m\u001b[0m\u001b[0m\n",
            "\u001b[0;32m/usr/local/lib/python3.6/dist-packages/statsmodels/tsa/statespace/mlemodel.py\u001b[0m in \u001b[0;36mappend\u001b[0;34m(self, endog, exog, refit, fit_kwargs, **kwargs)\u001b[0m\n\u001b[1;32m   3639\u001b[0m         \u001b[0;31m# Check the index of the new data\u001b[0m\u001b[0;34m\u001b[0m\u001b[0;34m\u001b[0m\u001b[0;34m\u001b[0m\u001b[0m\n\u001b[1;32m   3640\u001b[0m         \u001b[0;32mif\u001b[0m \u001b[0misinstance\u001b[0m\u001b[0;34m(\u001b[0m\u001b[0mself\u001b[0m\u001b[0;34m.\u001b[0m\u001b[0mmodel\u001b[0m\u001b[0;34m.\u001b[0m\u001b[0mdata\u001b[0m\u001b[0;34m,\u001b[0m \u001b[0mPandasData\u001b[0m\u001b[0;34m)\u001b[0m\u001b[0;34m:\u001b[0m\u001b[0;34m\u001b[0m\u001b[0;34m\u001b[0m\u001b[0m\n\u001b[0;32m-> 3641\u001b[0;31m             \u001b[0m_check_index\u001b[0m\u001b[0;34m(\u001b[0m\u001b[0mappend_ix\u001b[0m\u001b[0;34m,\u001b[0m \u001b[0mendog\u001b[0m\u001b[0;34m,\u001b[0m \u001b[0;34m'`endog`'\u001b[0m\u001b[0;34m)\u001b[0m\u001b[0;34m\u001b[0m\u001b[0;34m\u001b[0m\u001b[0m\n\u001b[0m\u001b[1;32m   3642\u001b[0m \u001b[0;34m\u001b[0m\u001b[0m\n\u001b[1;32m   3643\u001b[0m         \u001b[0;31m# Concatenate the new data to original data\u001b[0m\u001b[0;34m\u001b[0m\u001b[0;34m\u001b[0m\u001b[0;34m\u001b[0m\u001b[0m\n",
            "\u001b[0;32m/usr/local/lib/python3.6/dist-packages/statsmodels/tsa/statespace/mlemodel.py\u001b[0m in \u001b[0;36m_check_index\u001b[0;34m(desired_index, dta, title)\u001b[0m\n\u001b[1;32m     79\u001b[0m             raise ValueError('Given %s does not have an index'\n\u001b[1;32m     80\u001b[0m                              \u001b[0;34m' that extends the index of the'\u001b[0m\u001b[0;34m\u001b[0m\u001b[0;34m\u001b[0m\u001b[0m\n\u001b[0;32m---> 81\u001b[0;31m                              ' model.' % title)\n\u001b[0m\u001b[1;32m     82\u001b[0m \u001b[0;34m\u001b[0m\u001b[0m\n\u001b[1;32m     83\u001b[0m \u001b[0;34m\u001b[0m\u001b[0m\n",
            "\u001b[0;31mValueError\u001b[0m: Given `endog` does not have an index that extends the index of the model."
          ]
        }
      ]
    },
    {
      "cell_type": "code",
      "metadata": {
        "id": "uAzm1nUgb1Ke",
        "colab_type": "code",
        "colab": {
          "base_uri": "https://localhost:8080/",
          "height": 334
        },
        "outputId": "12efe264-ac48-4f26-97ea-3010916be4f7"
      },
      "source": [
        "error = mean_squared_error(multi_test_data[Y], multi_predictions)\n",
        "print('Testing Mean Squared Error: %.3f' % error)"
      ],
      "execution_count": null,
      "outputs": [
        {
          "output_type": "error",
          "ename": "ValueError",
          "evalue": "ignored",
          "traceback": [
            "\u001b[0;31m---------------------------------------------------------------------------\u001b[0m",
            "\u001b[0;31mValueError\u001b[0m                                Traceback (most recent call last)",
            "\u001b[0;32m<ipython-input-68-e3b7781e1960>\u001b[0m in \u001b[0;36m<module>\u001b[0;34m()\u001b[0m\n\u001b[0;32m----> 1\u001b[0;31m \u001b[0merror\u001b[0m \u001b[0;34m=\u001b[0m \u001b[0mmean_squared_error\u001b[0m\u001b[0;34m(\u001b[0m\u001b[0mmulti_test_data\u001b[0m\u001b[0;34m[\u001b[0m\u001b[0mY\u001b[0m\u001b[0;34m]\u001b[0m\u001b[0;34m,\u001b[0m \u001b[0mmulti_predictions\u001b[0m\u001b[0;34m)\u001b[0m\u001b[0;34m\u001b[0m\u001b[0;34m\u001b[0m\u001b[0m\n\u001b[0m\u001b[1;32m      2\u001b[0m \u001b[0mprint\u001b[0m\u001b[0;34m(\u001b[0m\u001b[0;34m'Testing Mean Squared Error: %.3f'\u001b[0m \u001b[0;34m%\u001b[0m \u001b[0merror\u001b[0m\u001b[0;34m)\u001b[0m\u001b[0;34m\u001b[0m\u001b[0;34m\u001b[0m\u001b[0m\n",
            "\u001b[0;32m/usr/local/lib/python3.6/dist-packages/sklearn/metrics/_regression.py\u001b[0m in \u001b[0;36mmean_squared_error\u001b[0;34m(y_true, y_pred, sample_weight, multioutput, squared)\u001b[0m\n\u001b[1;32m    250\u001b[0m     \"\"\"\n\u001b[1;32m    251\u001b[0m     y_type, y_true, y_pred, multioutput = _check_reg_targets(\n\u001b[0;32m--> 252\u001b[0;31m         y_true, y_pred, multioutput)\n\u001b[0m\u001b[1;32m    253\u001b[0m     \u001b[0mcheck_consistent_length\u001b[0m\u001b[0;34m(\u001b[0m\u001b[0my_true\u001b[0m\u001b[0;34m,\u001b[0m \u001b[0my_pred\u001b[0m\u001b[0;34m,\u001b[0m \u001b[0msample_weight\u001b[0m\u001b[0;34m)\u001b[0m\u001b[0;34m\u001b[0m\u001b[0;34m\u001b[0m\u001b[0m\n\u001b[1;32m    254\u001b[0m     output_errors = np.average((y_true - y_pred) ** 2, axis=0,\n",
            "\u001b[0;32m/usr/local/lib/python3.6/dist-packages/sklearn/metrics/_regression.py\u001b[0m in \u001b[0;36m_check_reg_targets\u001b[0;34m(y_true, y_pred, multioutput, dtype)\u001b[0m\n\u001b[1;32m     82\u001b[0m \u001b[0;34m\u001b[0m\u001b[0m\n\u001b[1;32m     83\u001b[0m     \"\"\"\n\u001b[0;32m---> 84\u001b[0;31m     \u001b[0mcheck_consistent_length\u001b[0m\u001b[0;34m(\u001b[0m\u001b[0my_true\u001b[0m\u001b[0;34m,\u001b[0m \u001b[0my_pred\u001b[0m\u001b[0;34m)\u001b[0m\u001b[0;34m\u001b[0m\u001b[0;34m\u001b[0m\u001b[0m\n\u001b[0m\u001b[1;32m     85\u001b[0m     \u001b[0my_true\u001b[0m \u001b[0;34m=\u001b[0m \u001b[0mcheck_array\u001b[0m\u001b[0;34m(\u001b[0m\u001b[0my_true\u001b[0m\u001b[0;34m,\u001b[0m \u001b[0mensure_2d\u001b[0m\u001b[0;34m=\u001b[0m\u001b[0;32mFalse\u001b[0m\u001b[0;34m,\u001b[0m \u001b[0mdtype\u001b[0m\u001b[0;34m=\u001b[0m\u001b[0mdtype\u001b[0m\u001b[0;34m)\u001b[0m\u001b[0;34m\u001b[0m\u001b[0;34m\u001b[0m\u001b[0m\n\u001b[1;32m     86\u001b[0m     \u001b[0my_pred\u001b[0m \u001b[0;34m=\u001b[0m \u001b[0mcheck_array\u001b[0m\u001b[0;34m(\u001b[0m\u001b[0my_pred\u001b[0m\u001b[0;34m,\u001b[0m \u001b[0mensure_2d\u001b[0m\u001b[0;34m=\u001b[0m\u001b[0;32mFalse\u001b[0m\u001b[0;34m,\u001b[0m \u001b[0mdtype\u001b[0m\u001b[0;34m=\u001b[0m\u001b[0mdtype\u001b[0m\u001b[0;34m)\u001b[0m\u001b[0;34m\u001b[0m\u001b[0;34m\u001b[0m\u001b[0m\n",
            "\u001b[0;32m/usr/local/lib/python3.6/dist-packages/sklearn/utils/validation.py\u001b[0m in \u001b[0;36mcheck_consistent_length\u001b[0;34m(*arrays)\u001b[0m\n\u001b[1;32m    210\u001b[0m     \u001b[0;32mif\u001b[0m \u001b[0mlen\u001b[0m\u001b[0;34m(\u001b[0m\u001b[0muniques\u001b[0m\u001b[0;34m)\u001b[0m \u001b[0;34m>\u001b[0m \u001b[0;36m1\u001b[0m\u001b[0;34m:\u001b[0m\u001b[0;34m\u001b[0m\u001b[0;34m\u001b[0m\u001b[0m\n\u001b[1;32m    211\u001b[0m         raise ValueError(\"Found input variables with inconsistent numbers of\"\n\u001b[0;32m--> 212\u001b[0;31m                          \" samples: %r\" % [int(l) for l in lengths])\n\u001b[0m\u001b[1;32m    213\u001b[0m \u001b[0;34m\u001b[0m\u001b[0m\n\u001b[1;32m    214\u001b[0m \u001b[0;34m\u001b[0m\u001b[0m\n",
            "\u001b[0;31mValueError\u001b[0m: Found input variables with inconsistent numbers of samples: [173, 172]"
          ]
        }
      ]
    },
    {
      "cell_type": "code",
      "metadata": {
        "id": "GVS9YlzSdBaS",
        "colab_type": "code",
        "colab": {}
      },
      "source": [
        "#Copy predicted values as a new column in test data\n",
        "predicted_test_data=multi_test_data.copy()\n",
        "predicted_test_data.insert(loc=0, column='Predicted_'+Y, value=pd.Series(multi_predictions).values,allow_duplicates=True)\n",
        "\n"
      ],
      "execution_count": null,
      "outputs": []
    },
    {
      "cell_type": "code",
      "metadata": {
        "colab_type": "code",
        "id": "AW5dGkWrdByH",
        "colab": {}
      },
      "source": [
        "plt.figure(figsize=(12,7))\n",
        "plt.title('BOM500002 Prices')\n",
        "plt.xlabel('Dates')\n",
        "plt.ylabel('Prices')\n",
        "plt.plot(multi_train_data[Y], color='blue', label='Training Prices')\n",
        "plt.plot(multi_test_data[Y], color='green', marker='.', label='Testing Prices - Reverse Diff Transform')\n",
        "plt.plot(predicted_test_data['Predicted_'+Y], color='red', linestyle='--', label='Forecasted Prices - Reverse Diff Transform')\n",
        "plt.legend();"
      ],
      "execution_count": null,
      "outputs": []
    }
  ]
}